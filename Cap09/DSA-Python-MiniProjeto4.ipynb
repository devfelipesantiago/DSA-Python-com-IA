{
 "cells": [
  {
   "cell_type": "markdown",
   "id": "72ac70f6-5840-4649-94a9-0b589eede30c",
   "metadata": {},
   "source": [
    "<!-- Trabalho Desenvolvido no Curso da Data Science Academy - www.datascienceacademy.com.br -->\n",
    "# <font color='blue'>Data Science Academy</font>\n",
    "# <font color='blue'>Fundamentos de Linguagem Python - Do Básico a Aplicações de IA</font>\n",
    "# <font color='blue'>Mini-Projeto 4</font>\n",
    "## <font color='blue'>Limpeza, Engenharia de Atributos e Análise Exploratória de Dados de Vendas com Pandas</font>"
   ]
  },
  {
   "cell_type": "markdown",
   "id": "5b4d422e-b7aa-43af-a208-9ebf01c60e9f",
   "metadata": {},
   "source": [
    "## 1. Definição do Problema de Negócio"
   ]
  },
  {
   "cell_type": "markdown",
   "id": "48ece6a5-d10f-4ce3-a7e1-9d920762762f",
   "metadata": {},
   "source": [
    "### 1.1. Contexto \n",
    "\n",
    "Uma empresa de e-commerce, em plena fase de crescimento, coleta diariamente um volume significativo de dados transacionais de suas vendas online. Esses dados, provenientes de diversas fontes, são armazenados em um sistema bruto e incluem informações sobre pedidos, clientes, produtos, categorias e status de entrega.\n",
    "\n",
    "Atualmente, a gestão da empresa enfrenta dificuldades para tomar decisões estratégicas baseadas em dados, pois os relatórios gerados a partir desse sistema bruto são inconsistentes e pouco confiáveis. Tentativas de analisar o desempenho de produtos ou entender o comportamento do consumidor resultaram em conclusões contraditórias, gerando incerteza nas áreas de marketing, estoque e planejamento financeiro.\n",
    "\n",
    "### 1.2. Problema de Negócio \n",
    "\n",
    "A empresa não consegue extrair inteligência de negócio de seus dados de vendas devido à baixa qualidade e à falta de estruturação das informações. Os dados brutos contêm problemas recorrentes, como:\n",
    "\n",
    "- Dados Faltantes: Pedidos sem registro de quantidade ou status, impedindo um cálculo preciso do faturamento e da eficiência logística.\n",
    "\n",
    "- Inconsistências e Erros: Formatos de dados incorretos (ex: preços como texto) e erros de digitação que corrompem as análises.\n",
    "\n",
    "- Informações Duplicadas: Registros de vendas que aparecem mais de uma vez, inflando artificialmente os números de receita e unidades vendidas.\n",
    "\n",
    "- Valores Discrepantes (Outliers): Dados anômalos que distorcem as médias e as análises estatísticas, levando a uma compreensão equivocada do comportamento padrão de compra.\n",
    "<!-- Trabalho Desenvolvido no Curso da Data Science Academy - www.datascienceacademy.com.br -->\n",
    "\n",
    "Essa falta de dados confiáveis impede a empresa de responder a perguntas críticas de negócio, tais como:\n",
    "\n",
    "- Quais são nossos produtos e categorias mais lucrativos?\n",
    "\n",
    "- Qual é a nossa tendência de vendas ao longo do tempo?\n",
    "\n",
    "- Como está a eficiência de nossa operação logística (percentual de entregas, pendências, etc.)?\n",
    "\n",
    "A incapacidade de responder a essas perguntas resulta em alocação ineficiente de recursos, perda de oportunidades de vendas e dificuldade em planejar o futuro do negócio de forma estratégica.\n",
    "\n",
    "### 1.3. Objetivos do Projeto \n",
    "\n",
    "O objetivo principal deste projeto é transformar os dados brutos de vendas em um ativo confiável e acionável, permitindo que a empresa baseie suas decisões estratégicas em informações precisas.\n",
    "\n",
    "Para alcançar este objetivo, os seguintes passos serão executados:\n",
    "\n",
    "- Limpeza e Validação: Implementar um processo para identificar e corrigir as inconsistências nos dados, tratando valores ausentes, removendo duplicatas, corrigindo tipos de dados e lidando com outliers.\n",
    "\n",
    "- Análise Exploratória de Dados (EDA): Analisar o conjunto de dados limpo para extrair insights iniciais e responder às perguntas de negócio fundamentais.\n",
    "\n",
    "- Geração de Insights Visuais: Criar um conjunto de visualizações que comuniquem de forma clara e objetiva os principais indicadores de desempenho de vendas.\n",
    "\n",
    "### 1.4. Critérios de Sucesso \n",
    "\n",
    "O projeto será considerado um sucesso quando formos capazes de entregar:\n",
    "\n",
    "- Um conjunto de dados (dataset) limpo e validado, pronto para ser utilizado em análises futuras.\n",
    "\n",
    "- Um relatório de análise respondendo com clareza às seguintes questões:\n",
    "\n",
    "    - O faturamento total e a receita por categoria de produto.\n",
    "\n",
    "    - A identificação do top 5 produtos mais vendidos em quantidade e em receita.\n",
    "\n",
    "    - Um gráfico mostrando a tendência de vendas diárias no período analisado.\n",
    "\n",
    "    - Uma análise da distribuição percentual dos status de entrega (Entregue, Pendente, Cancelado).\n",
    "\n",
    "O sucesso final será medido pela capacidade da equipe de gestão de utilizar os insights gerados para tomar, com confiança, pelo menos uma decisão de negócio informada (ex: ajustar o estoque do produto mais vendido ou criar uma campanha de marketing para a categoria mais lucrativa)."
   ]
  },
  {
   "cell_type": "markdown",
   "id": "40bea8d1-2067-481a-8544-b61f47524e6b",
   "metadata": {},
   "source": [
    "## 2. Importação das Bibliotecas"
   ]
  },
  {
   "cell_type": "code",
   "execution_count": null,
   "id": "e23e9095-119c-47ae-8ed8-1c093b0e85de",
   "metadata": {},
   "outputs": [],
   "source": [
    "# Instala o pacote watermark\n",
    "!pip install -q -U watermark"
   ]
  },
  {
   "cell_type": "code",
   "execution_count": null,
   "id": "ea114251-86f1-4615-b5c1-b7d6841bf3d4",
   "metadata": {},
   "outputs": [],
   "source": [
    "# Importando as bibliotecas\n",
    "import pandas as pd\n",
    "import numpy as np\n",
    "import matplotlib.pyplot as plt\n",
    "import seaborn as sns"
   ]
  },
  {
   "cell_type": "code",
   "execution_count": null,
   "id": "ed3d1810-38f4-4b6e-913c-90e2eca5630b",
   "metadata": {},
   "outputs": [],
   "source": [
    "%reload_ext watermark\n",
    "%watermark -a \"Data Science Academy\""
   ]
  },
  {
   "cell_type": "code",
   "execution_count": null,
   "id": "62932c7b-c0f7-4ddb-b856-e599e9484b5b",
   "metadata": {},
   "outputs": [],
   "source": [
    "%watermark --iversions"
   ]
  },
  {
   "cell_type": "code",
   "execution_count": null,
   "id": "41783dd9-fa72-4375-9e3d-38f93eca05f0",
   "metadata": {},
   "outputs": [],
   "source": [
    "# Configurando o estilo dos gráficos\n",
    "sns.set_style(\"whitegrid\")\n",
    "plt.rcParams['figure.figsize'] = (12, 6)"
   ]
  },
  {
   "cell_type": "markdown",
   "id": "cba06288-e316-4672-bc8a-f3856a37f39e",
   "metadata": {},
   "source": [
    "## Passo 1 - Geração de Dados Sintéticos com Pandas e NumPy\n",
    "\n",
    "Criamos um DataFrame com dados fictícios que simulam problemas comuns: valores ausentes, tipos de dados incorretos, duplicatas e outliers."
   ]
  },
  {
   "cell_type": "code",
   "execution_count": null,
   "id": "57931377-3fd1-4ccf-925f-7da9e5f055c4",
   "metadata": {},
   "outputs": [],
   "source": [
    "# --- Geração de Dados Fictícios Coerentes ---\n",
    "print(\"\\nGerando conjunto de dados fictícios...\")\n",
    "\n",
    "# Define a semente para resultados reproduzíveis\n",
    "np.random.seed(42)\n",
    "\n",
    "# Criando um dicionário de dados\n",
    "data = {\n",
    "    'ID_Pedido': range(1001, 1101),\n",
    "    'Data_Compra': pd.to_datetime(pd.date_range(start = '2026-07-01', periods = 100, freq ='D')) - pd.to_timedelta(np.random.randint(0, 30, size = 100), unit = 'd'),\n",
    "    'Cliente_ID': np.random.randint(100, 150, size = 100),\n",
    "    'Produto': np.random.choice(['Smartphone', 'Notebook', 'Fone de Ouvido', 'Smartwatch', 'Teclado Mecânico'], size = 100),\n",
    "    'Categoria': ['Eletrônicos', 'Eletrônicos', 'Acessórios', 'Acessórios', 'Acessórios'] * 20,\n",
    "    'Quantidade': np.random.randint(1, 5, size = 100),\n",
    "    'Preco_Unitario': [5999.90, 8500.00, 799.50, 2100.00, 850.00] * 20,\n",
    "    'Status_Entrega': np.random.choice(['Entregue', 'Pendente', 'Cancelado'], size = 100, p = [0.8, 0.15, 0.05])\n",
    "}\n",
    "\n",
    "# Criando o dataframe a partir do dicionário\n",
    "df_vendas = pd.DataFrame(data)\n",
    "\n",
    "# --- Introduzindo Problemas nos Dados para o Exercício ---\n",
    "print(\"\\nIntroduzindo problemas nos dados para a limpeza...\\n\")\n",
    "\n",
    "# 1. Valores Ausentes (NaN)\n",
    "df_vendas.loc[5:10, 'Quantidade'] = np.nan\n",
    "df_vendas.loc[20:22, 'Status_Entrega'] = np.nan\n",
    "df_vendas.loc[30, 'Cliente_ID'] = np.nan\n",
    "\n",
    "# 2. Dados Duplicados\n",
    "df_vendas = pd.concat([df_vendas, df_vendas.head(3)], ignore_index = True)\n",
    "\n",
    "# 3. Tipos de Dados Incorretos\n",
    "df_vendas['Preco_Unitario'] = df_vendas['Preco_Unitario'].astype(str)\n",
    "df_vendas.loc[15, 'Preco_Unitario'] = 'valor_invalido'                   # Simulando um erro de digitação\n",
    "df_vendas['Cliente_ID'] = df_vendas['Cliente_ID'].astype(str)\n",
    "\n",
    "# 4. Outliers\n",
    "df_vendas.loc[50, 'Quantidade'] = 50 # Um valor claramente fora do padrão\n",
    "\n",
    "print(\"Dados gerados com sucesso!\\n\")"
   ]
  },
  {
   "cell_type": "code",
   "execution_count": null,
   "id": "467ef026-8aa2-445b-b960-ee964624142b",
   "metadata": {},
   "outputs": [],
   "source": [
    "# Primeiras linhas\n",
    "df_vendas.head()"
   ]
  },
  {
   "cell_type": "code",
   "execution_count": null,
   "id": "da39ad61-fff6-435f-b2b8-fac1d78b2980",
   "metadata": {},
   "outputs": [],
   "source": [
    "# Últimas linhas\n",
    "df_vendas.tail()"
   ]
  },
  {
   "cell_type": "markdown",
   "id": "b8ffd4e0-bd71-44b2-b0bf-b5df24ef2e7a",
   "metadata": {},
   "source": [
    "**Gerar dados com problemas é muito mais fácil do que corrigir os problemas**. Por isso há 2 grupos de pessoas no mundo:\n",
    "\n",
    "- As que criam problemas!\n",
    "- As que resolvem problemas!\n",
    "\n",
    "Fique sempre no segundo grupo, pois a concorrência é muito menor!"
   ]
  },
  {
   "cell_type": "markdown",
   "id": "8c3c7a67-cb28-43ca-8365-757eb311b514",
   "metadata": {},
   "source": [
    "## Passo 2 - Análise Exploratória de Dados (EDA)\n",
    "<!-- Trabalho Desenvolvido no Curso da Data Science Academy - www.datascienceacademy.com.br -->\n",
    "Antes de fazer qualquer modificação vamos inspecionar o DataFrame para entender sua estrutura e identificar os problemas."
   ]
  },
  {
   "cell_type": "code",
   "execution_count": null,
   "id": "5d2c334a-b3b4-41d3-9a4e-d46f37c7166f",
   "metadata": {},
   "outputs": [],
   "source": [
    "# Verificando as informações gerais do DataFrame\n",
    "print(\"\\n--- Informações Gerais do DataFrame (df_vendas.info()) ---\\n\")\n",
    "df_vendas.info()"
   ]
  },
  {
   "cell_type": "code",
   "execution_count": null,
   "id": "1dfff296-a1e3-4754-9c06-c4686679b92c",
   "metadata": {},
   "outputs": [],
   "source": [
    "print(\"\\n--- Verificando valores ausentes ---\\n\")\n",
    "print(df_vendas.isna().sum())"
   ]
  },
  {
   "cell_type": "code",
   "execution_count": null,
   "id": "9a25313f-6901-4c42-a251-659ce5927599",
   "metadata": {},
   "outputs": [],
   "source": [
    "print(\"\\n--- Verificando a presença de registros duplicados ---\\n\")\n",
    "print(f\"Número de linhas duplicadas: {df_vendas.duplicated().sum()}\")"
   ]
  },
  {
   "cell_type": "code",
   "execution_count": null,
   "id": "3fb12029-89f7-445b-9336-2fe575a441b2",
   "metadata": {},
   "outputs": [],
   "source": [
    "print(\"\\n--- Estatísticas descritivas para colunas numéricas ---\\n\")\n",
    "# Usamos o describe() para ter uma noção inicial. Note que Preco_Unitario não aparecerá por ser 'object'.\n",
    "print(df_vendas.describe())"
   ]
  },
  {
   "cell_type": "code",
   "execution_count": null,
   "id": "b8934a02-8aa1-461b-b0a6-e74113a7150f",
   "metadata": {},
   "outputs": [],
   "source": [
    "print(\"\\n--- Estatísticas descritivas para colunas categóricas ---\\n\")\n",
    "print(df_vendas.describe(include = [object]))"
   ]
  },
  {
   "cell_type": "code",
   "execution_count": null,
   "id": "f6585e9e-a02f-4c40-8a74-db5f19ea0454",
   "metadata": {},
   "outputs": [],
   "source": [
    "# Verificando as informações gerais do DataFrame\n",
    "print(\"\\n--- Tipos de dados ---\\n\")\n",
    "df_vendas.dtypes"
   ]
  },
  {
   "cell_type": "markdown",
   "id": "badb7dfc-49bd-4f59-9afd-b17d2da9e9bf",
   "metadata": {},
   "source": [
    "## Passo 3 - Limpeza e Pré-Processamento dos Dados\n",
    "<!-- Trabalho Desenvolvido no Curso da Data Science Academy - www.datascienceacademy.com.br -->\n",
    "Agora, vamos resolver sistematicamente os problemas identificados na etapa de inspeção."
   ]
  },
  {
   "cell_type": "code",
   "execution_count": null,
   "id": "c06097e1-fa2e-46a8-95fd-3697994e7eba",
   "metadata": {},
   "outputs": [],
   "source": [
    "# Copiando o DataFrame para manter o original intacto\n",
    "df_limpo = df_vendas.copy()"
   ]
  },
  {
   "cell_type": "code",
   "execution_count": null,
   "id": "081d1351-6da7-4d21-9884-14edf16db239",
   "metadata": {},
   "outputs": [],
   "source": [
    "# --- 1. Corrigindo Tipos de Dados ---\n",
    "print(\"Corrigindo tipos de dados...\")\n",
    "# Convertendo 'Preco_Unitario' para numérico, tratando erros\n",
    "# errors='coerce' transformará valores inválidos (como 'valor_invalido') em NaN\n",
    "df_limpo['Preco_Unitario'] = pd.to_numeric(df_limpo['Preco_Unitario'], errors = 'coerce')"
   ]
  },
  {
   "cell_type": "code",
   "execution_count": null,
   "id": "03cc4e0c-898a-4dae-ab0f-52763c069a00",
   "metadata": {},
   "outputs": [],
   "source": [
    "# Convertendo 'Cliente_ID' para numérico, tratando erros\n",
    "df_limpo['Cliente_ID'] = pd.to_numeric(df_limpo['Cliente_ID'], errors = 'coerce').astype('Int64') # Usamos Int64 para permitir NaN"
   ]
  },
  {
   "cell_type": "code",
   "execution_count": null,
   "id": "84cf6269-281f-4601-9551-e81a50c920e1",
   "metadata": {},
   "outputs": [],
   "source": [
    "df_limpo.dtypes"
   ]
  },
  {
   "cell_type": "markdown",
   "id": "eb9e5edf-b71c-4260-b1ed-d0a8194d200a",
   "metadata": {},
   "source": [
    "**A coluna 'Data_Compra' já está no formato correto (datetime64)!**"
   ]
  },
  {
   "cell_type": "code",
   "execution_count": null,
   "id": "da2b2822-8016-49d2-9711-e792be877867",
   "metadata": {},
   "outputs": [],
   "source": [
    "# --- 2. Tratando Valores Ausentes (NaN) ---\n",
    "print(\"Tratando valores ausentes...\")\n",
    "# Para 'Quantidade', vamos preencher com a mediana, que é mais robusta a outliers\n",
    "mediana_qtd = df_limpo['Quantidade'].median()\n",
    "df_limpo.fillna({'Quantidade': mediana_qtd}, inplace = True)"
   ]
  },
  {
   "cell_type": "code",
   "execution_count": null,
   "id": "5fbf0d83-a6f1-465a-afc8-c5c9ffd10583",
   "metadata": {},
   "outputs": [],
   "source": [
    "# Para 'Status_Entrega', podemos preencher com o valor mais frequente (moda)\n",
    "moda_status = df_limpo['Status_Entrega'].mode()[0]\n",
    "df_limpo['Status_Entrega'] = df_limpo['Status_Entrega'].fillna(moda_status)"
   ]
  },
  {
   "cell_type": "code",
   "execution_count": null,
   "id": "c1759736-c4c8-42f0-b3b5-c5836f23bb23",
   "metadata": {},
   "outputs": [],
   "source": [
    "# Para 'Preco_Unitario' e 'Cliente_ID', onde o NaN foi gerado por erro ou falta de informação,\n",
    "# a melhor abordagem é remover as linhas, pois não podemos inferir esses dados.\n",
    "df_limpo.dropna(subset = ['Preco_Unitario', 'Cliente_ID'], inplace = True)"
   ]
  },
  {
   "cell_type": "code",
   "execution_count": null,
   "id": "5737cf8d-bb6c-4e25-9bb4-a7548363d685",
   "metadata": {},
   "outputs": [],
   "source": [
    "# --- 3. Removendo Duplicatas ---\n",
    "print(\"Removendo registros duplicados...\")\n",
    "df_limpo.drop_duplicates(inplace = True)"
   ]
  },
  {
   "cell_type": "code",
   "execution_count": null,
   "id": "13d2103a-7802-4cdd-a1d9-04a3126fafd9",
   "metadata": {},
   "outputs": [],
   "source": [
    "# --- 4. Tratando Outliers ---\n",
    "# Vamos visualizar o outlier na coluna 'Quantidade'\n",
    "print(\"Tratando outliers...\")\n",
    "sns.boxplot(x = df_limpo['Quantidade'])\n",
    "plt.title('Boxplot de Quantidade (Antes de tratar outlier)')\n",
    "plt.show()"
   ]
  },
  {
   "cell_type": "code",
   "execution_count": null,
   "id": "3ad9f8ea-12af-4eac-bf3b-8d343f48bc98",
   "metadata": {},
   "outputs": [],
   "source": [
    "# Vamos remover valores de 'Quantidade' que estão muito distantes da média.\n",
    "# Uma abordagem comum é remover valores que estão além de 3 desvios padrão da média.\n",
    "limite_superior = df_limpo['Quantidade'].mean() + 3 * df_limpo['Quantidade'].std()\n",
    "df_limpo = df_limpo[df_limpo['Quantidade'] < limite_superior]"
   ]
  },
  {
   "cell_type": "code",
   "execution_count": null,
   "id": "e6910a5a-1f11-4ce3-9613-fb3dd149abd2",
   "metadata": {},
   "outputs": [],
   "source": [
    "# Verificando o resultado\n",
    "sns.boxplot(x = df_limpo['Quantidade'])\n",
    "plt.title('Boxplot de Quantidade (Depois de tratar outlier)')\n",
    "plt.show()"
   ]
  },
  {
   "cell_type": "code",
   "execution_count": null,
   "id": "d53d16e0-932e-4b5d-8b28-c82cf08e40d9",
   "metadata": {},
   "outputs": [],
   "source": [
    "# --- Verificação Final ---\n",
    "print(\"\\n--- Verificação Final Pós-Limpeza ---\\n\")\n",
    "df_limpo.info()\n",
    "print(\"\\nValores ausentes restantes:\\n\", df_limpo.isna().sum())\n",
    "print(f\"\\nLinhas duplicadas restantes: {df_limpo.duplicated().sum()}\")"
   ]
  },
  {
   "cell_type": "markdown",
   "id": "cd1ed720-6c47-4fdf-a387-d5c9f74c6075",
   "metadata": {},
   "source": [
    "## Passo 4 - Engenharia de Atributos e Extração de Insights\n",
    "\n",
    "Com os dados limpos, podemos começar a fazer perguntas e extrair insights."
   ]
  },
  {
   "cell_type": "code",
   "execution_count": null,
   "id": "b607a997-9d96-4cf8-9425-20517dbe491e",
   "metadata": {},
   "outputs": [],
   "source": [
    "df_limpo.head()"
   ]
  },
  {
   "cell_type": "code",
   "execution_count": null,
   "id": "ab71b2d8-96dd-4bbd-9eb1-eb4f770de356",
   "metadata": {},
   "outputs": [],
   "source": [
    "# --- Feature Engineering: Criando uma nova coluna 'Total_Venda' ---\n",
    "df_limpo['Total_Venda'] = df_limpo['Quantidade'] * df_limpo['Preco_Unitario']"
   ]
  },
  {
   "cell_type": "code",
   "execution_count": null,
   "id": "fccb95f3-2f9d-4f63-a4a9-2384c4a161a9",
   "metadata": {},
   "outputs": [],
   "source": [
    "df_limpo.head()"
   ]
  },
  {
   "cell_type": "code",
   "execution_count": null,
   "id": "2834b76f-53ff-423b-b4f4-1754023db33a",
   "metadata": {},
   "outputs": [],
   "source": [
    "# 1. Qual o total de receita?\n",
    "receita_total = df_limpo['Total_Venda'].sum()\n",
    "print(f\"A receita total da loja foi de: R$ {receita_total:,.2f}\")"
   ]
  },
  {
   "cell_type": "code",
   "execution_count": null,
   "id": "aa2f506d-e889-492f-a1d4-4b51eddee6cc",
   "metadata": {},
   "outputs": [],
   "source": [
    "# 2. Qual a receita total por categoria de produto?\n",
    "receita_por_categoria = df_limpo.groupby('Categoria')['Total_Venda'].sum().sort_values(ascending = False)\n",
    "print(\"\\n--- Receita Total por Categoria ---\\n\")\n",
    "print(receita_por_categoria)"
   ]
  },
  {
   "cell_type": "code",
   "execution_count": null,
   "id": "c6c19306-9172-4134-a490-64b94f990393",
   "metadata": {},
   "outputs": [],
   "source": [
    "# 3. Qual o produto mais vendido em quantidade?\n",
    "produto_mais_vendido = df_limpo.groupby('Produto')['Quantidade'].sum().sort_values(ascending = False)\n",
    "print(\"\\n--- Total de Unidades Vendidas por Produto ---\\n\")\n",
    "print(produto_mais_vendido)"
   ]
  },
  {
   "cell_type": "code",
   "execution_count": null,
   "id": "aee54b17-7ced-4706-8245-820d310c33b6",
   "metadata": {},
   "outputs": [],
   "source": [
    "# 4. Análise de vendas ao longo do tempo\n",
    "# Agrupando as vendas por dia\n",
    "vendas_por_dia = df_limpo.set_index('Data_Compra').resample('D')['Total_Venda'].sum()\n",
    "print(\"\\n--- Resumo de Vendas por Dia (Primeiros 5 dias) ---\\n\")\n",
    "print(vendas_por_dia.head())"
   ]
  },
  {
   "cell_type": "markdown",
   "id": "57535049-a2cf-40c3-8487-1406e48e49a1",
   "metadata": {},
   "source": [
    "## Passo 5 - Visualização dos Dados e Análise\n",
    "\n",
    "Gráficos são essenciais para comunicar os resultados da análise."
   ]
  },
  {
   "cell_type": "code",
   "execution_count": null,
   "id": "cf5aa694-9ece-4d46-a295-0e128edc20dc",
   "metadata": {},
   "outputs": [],
   "source": [
    "# Gráfico 1: Receita por Categoria\n",
    "receita_por_categoria.plot(kind = 'bar', color = 'skyblue')\n",
    "plt.title('Receita Total Por Categoria de Produto')\n",
    "plt.ylabel('Receita (R$)')\n",
    "plt.xlabel('Categoria')\n",
    "plt.xticks(rotation = 0)\n",
    "plt.show()"
   ]
  },
  {
   "cell_type": "code",
   "execution_count": null,
   "id": "77d8ec04-64db-434d-895f-91f8daeba887",
   "metadata": {},
   "outputs": [],
   "source": [
    "# Gráfico 2: Quantidade Vendida por Produto\n",
    "produto_mais_vendido.plot(kind = 'barh', color = 'salmon')\n",
    "plt.title('Quantidade de Unidades Vendidas Por Produto')\n",
    "plt.ylabel('Produto')\n",
    "plt.xlabel('Quantidade Vendida')\n",
    "plt.gca().invert_yaxis() # Inverte o eixo para o maior valor ficar no topo\n",
    "plt.show()"
   ]
  },
  {
   "cell_type": "code",
   "execution_count": null,
   "id": "d534844b-76b0-4152-9b88-8cec70395920",
   "metadata": {},
   "outputs": [],
   "source": [
    "# Gráfico 3: Tendência de Vendas ao Longo do Tempo\n",
    "vendas_por_dia.plot(kind = 'line', marker = '.', linestyle = '-')\n",
    "plt.title('Tendência de Vendas Diárias')\n",
    "plt.ylabel('Receita (R$)')\n",
    "plt.xlabel('Data da Compra')\n",
    "plt.grid(True)\n",
    "plt.show()"
   ]
  },
  {
   "cell_type": "code",
   "execution_count": null,
   "id": "0530f756-0d7e-4364-b05c-7d5d585bb773",
   "metadata": {},
   "outputs": [],
   "source": [
    "# Gráfico 4: Distribuição do Status de Entrega\n",
    "\n",
    "# Conta quantas vezes aparece cada status de entrega\n",
    "status_counts = df_limpo['Status_Entrega'].value_counts()\n",
    "\n",
    "plt.pie(\n",
    "    status_counts,                 # Valores numéricos para cada fatia (quantidade de cada status)\n",
    "    labels = status_counts.index,  # Rótulos de cada fatia (labels dos status)\n",
    "    autopct = '%1.1f%%',           # Mostra o percentual em cada fatia com 1 casa decimal \n",
    "    startangle = 180,              # Ângulo inicial para \"girar\" o gráfico e escolher onde começa a primeira fatia\n",
    "    colors = ['lightgreen',        # Cor da primeira fatia\n",
    "              'orange',            # Cor da segunda fatia\n",
    "              'lightcoral']        # Cor da terceira fatia\n",
    ")\n",
    "\n",
    "plt.title('\\nDistribuição do Status de Entrega')  # Título do gráfico\n",
    "plt.show()                                         # Exibe o gráfico na tela"
   ]
  },
  {
   "cell_type": "code",
   "execution_count": null,
   "id": "8d3d7419-4300-44ca-b9d3-75be34334439",
   "metadata": {},
   "outputs": [],
   "source": [
    "# Gráfico 4: Distribuição do Status de Entrega no formato 3D\n",
    "\n",
    "# Conta quantas vezes aparece cada status de entrega\n",
    "status_counts = df_limpo['Status_Entrega'].value_counts()\n",
    "\n",
    "# Descobre a posição (índice) da fatia com maior valor para destacá-la\n",
    "maior_idx = status_counts.argmax()\n",
    "\n",
    "# Cria a lista explode: desloca 0.1 para a maior fatia e 0 para as outras\n",
    "explode = [0.1 if i == maior_idx else 0 for i in range(len(status_counts))]\n",
    "\n",
    "# Define o tamanho da figura (6x6 polegadas)\n",
    "plt.figure(figsize = (6,6))\n",
    "\n",
    "plt.pie(\n",
    "    status_counts,                 # Valores numéricos para cada fatia (quantidade de cada status)\n",
    "    labels = status_counts.index,  # Rótulos de cada fatia (nomes dos status)\n",
    "    autopct = '%1.1f%%',           # Mostra o percentual em cada fatia com 1 casa decimal \n",
    "    startangle = 180,              # Ângulo inicial para \"girar\" o gráfico e definir onde começa a primeira fatia\n",
    "    colors = ['lightgreen',        # Cor da primeira fatia\n",
    "              'orange',            # Cor da segunda fatia\n",
    "              'lightcoral'],       # Cor da terceira fatia\n",
    "    explode = explode,             # Desloca a maior fatia para destacá-la visualmente\n",
    "    shadow = True                  # Adiciona sombra para criar um efeito 3D simples\n",
    ")\n",
    "\n",
    "plt.title('\\nDistribuição do Status de Entrega\\n')  # Define o título do gráfico\n",
    "plt.axis('equal')                                   # Mantém o formato circular (sem deformações)\n",
    "plt.show()                                          # Exibe o gráfico"
   ]
  },
  {
   "cell_type": "code",
   "execution_count": null,
   "id": "caa55290-9411-4f3c-a732-d6c0ffbbfa52",
   "metadata": {},
   "outputs": [],
   "source": [
    "# Gráfico 4: Distribuição dos Status de Entrega com gráfico interativo usando o Plotly\n",
    "\n",
    "# Importa o pacote Plotly Express para gráficos interativos\n",
    "#!pip install plotly\n",
    "import plotly.express as px\n",
    "\n",
    "# Cria o gráfico de pizza interativo\n",
    "dsa_fig = px.pie(\n",
    "    values = status_counts,        # Valores numéricos para cada fatia (quantidade de cada status)\n",
    "    names = status_counts.index,   # Rótulos de cada fatia (nomes dos status)\n",
    "    hole = 0,                      # Define o tamanho do \"furo\" no centro (0 = pizza completa, >0 cria gráfico do tipo donut)\n",
    "    title = 'Distribuição do Status de Entrega'  # Título exibido no gráfico\n",
    ")\n",
    "\n",
    "# Ajusta o destaque das fatias (pull desloca as fatias para fora)\n",
    "dsa_fig.update_traces(\n",
    "    pull = [0.05 if i == maior_idx else 0 for i in range(len(status_counts))]\n",
    "    # Cria uma lista onde a maior fatia é deslocada 0.05 e as outras ficam sem deslocamento\n",
    ")\n",
    "\n",
    "# Mostra o gráfico interativo na tela\n",
    "dsa_fig.show()"
   ]
  },
  {
   "cell_type": "markdown",
   "id": "6130f3d4-68e5-466a-afc3-b44874392975",
   "metadata": {},
   "source": [
    "## Passo 6 - Como Entregar o Relatório Final\n",
    "\n",
    "O objetivo principal é contar uma história com os dados. Você deve guiar seu público desde o problema inicial até as soluções recomendadas, usando os dados como evidência.\n",
    "\n",
    "Veja um exemplo de estrutura para o relatório no manual em pdf do Capítulo 9."
   ]
  },
  {
   "cell_type": "code",
   "execution_count": null,
   "id": "61a125df-a278-4dc0-93e2-bb2f29f60a6c",
   "metadata": {},
   "outputs": [],
   "source": [
    "%reload_ext watermark\n",
    "%watermark -a \"Data Science Academy\" --iversions"
   ]
  },
  {
   "cell_type": "markdown",
   "id": "0e70e92c-24ab-4d41-8362-89841f80232f",
   "metadata": {},
   "source": [
    "# Fim"
   ]
  }
 ],
 "metadata": {
  "kernelspec": {
   "display_name": "Python 3",
   "language": "python",
   "name": "python3"
  },
  "language_info": {
   "codemirror_mode": {
    "name": "ipython",
    "version": 3
   },
   "file_extension": ".py",
   "mimetype": "text/x-python",
   "name": "python",
   "nbconvert_exporter": "python",
   "pygments_lexer": "ipython3",
   "version": "3.13.3"
  }
 },
 "nbformat": 4,
 "nbformat_minor": 5
}
