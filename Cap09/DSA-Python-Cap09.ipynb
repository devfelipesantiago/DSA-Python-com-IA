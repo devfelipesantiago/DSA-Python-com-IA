{
 "cells": [
  {
   "cell_type": "markdown",
   "id": "3a5b2518-0c35-4a82-b64e-4d8e7a8f6631",
   "metadata": {},
   "source": [
    "<!-- Trabalho Desenvolvido no Curso da Data Science Academy - www.datascienceacademy.com.br -->\n",
    "# <font color='blue'>Data Science Academy</font>\n",
    "# <font color='blue'>Fundamentos de Linguagem Python - Do Básico a Aplicações de IA</font>\n",
    "# <font color='blue'>Limpeza, Transformação e Análise de Dados com Pandas </font>"
   ]
  },
  {
   "cell_type": "markdown",
   "id": "13aae8d9-bec9-4f99-bbe3-7c394450452e",
   "metadata": {},
   "source": [
    "## O Que é e Quando Usar o Pandas?\n",
    "\n",
    "Leia o manual em pdf no Capítulo 9 do Curso."
   ]
  },
  {
   "cell_type": "code",
   "execution_count": 1,
   "id": "0b3f07fb-8338-43b7-a5d4-cc09adeb545c",
   "metadata": {},
   "outputs": [],
   "source": [
    "!pip install -q -U watermark"
   ]
  },
  {
   "cell_type": "code",
   "execution_count": 2,
   "id": "9c8269e6-48c4-4c6f-835a-0abeefc008d0",
   "metadata": {},
   "outputs": [],
   "source": [
    "# Imports\n",
    "import pandas as pd\n",
    "import numpy as np\n",
    "import matplotlib.pyplot as plt"
   ]
  },
  {
   "cell_type": "code",
   "execution_count": 3,
   "id": "9b356602-d193-401b-9a71-b5e5121c4171",
   "metadata": {},
   "outputs": [
    {
     "name": "stdout",
     "output_type": "stream",
     "text": [
      "Author: Data Science Academy\n",
      "\n"
     ]
    }
   ],
   "source": [
    "%reload_ext watermark\n",
    "%watermark -a \"Data Science Academy\""
   ]
  },
  {
   "cell_type": "code",
   "execution_count": 4,
   "id": "c61f3c81-9220-403e-98a8-6969f3c22d45",
   "metadata": {},
   "outputs": [
    {
     "name": "stdout",
     "output_type": "stream",
     "text": [
      "pandas    : 2.3.2\n",
      "matplotlib: 3.10.6\n",
      "numpy     : 2.3.2\n",
      "\n"
     ]
    }
   ],
   "source": [
    "%watermark --iversions"
   ]
  },
  {
   "cell_type": "markdown",
   "id": "1ad91b06-bbc1-4231-b45d-af62f0c32c8a",
   "metadata": {},
   "source": [
    "## 1- Pandas e Estruturas de Dados - Series e DataFrame\n",
    "\n",
    "Vamos começar criando as estruturas de dados fundamentais: Series e DataFrame.\n",
    "\n",
    "No Pandas, uma Series (uma série) é uma estrutura unidimensional, parecida com uma coluna de uma tabela: contém uma sequência de valores com um índice associado. Já um DataFrame é uma estrutura bidimensional, semelhante a uma planilha, tabela ou matriz, formada por várias colunas (que são, internamente, Series alinhadas pelo mesmo índice)."
   ]
  },
  {
   "cell_type": "code",
   "execution_count": 5,
   "id": "9f956020-28a9-4001-bae2-c20db8531a9f",
   "metadata": {},
   "outputs": [],
   "source": [
    "# Criando uma Series (uma única coluna)\n",
    "s = pd.Series([10, 20, 30, 40, 50], name = 'Valores')"
   ]
  },
  {
   "cell_type": "code",
   "execution_count": 6,
   "id": "9176b8d0-537e-41fb-8f3c-23a66f8fa79f",
   "metadata": {},
   "outputs": [
    {
     "data": {
      "text/plain": [
       "pandas.core.series.Series"
      ]
     },
     "execution_count": 6,
     "metadata": {},
     "output_type": "execute_result"
    }
   ],
   "source": [
    "type(s)"
   ]
  },
  {
   "cell_type": "code",
   "execution_count": 7,
   "id": "3ca28405-acb8-4389-ae10-8e45c69d8edb",
   "metadata": {},
   "outputs": [
    {
     "name": "stdout",
     "output_type": "stream",
     "text": [
      "\n",
      "--- Exemplo de Series ---\n",
      "\n",
      "0    10\n",
      "1    20\n",
      "2    30\n",
      "3    40\n",
      "4    50\n",
      "Name: Valores, dtype: int64\n",
      "\n",
      "\n"
     ]
    }
   ],
   "source": [
    "print(\"\\n--- Exemplo de Series ---\\n\")\n",
    "print(s)\n",
    "print(\"\\n\")"
   ]
  },
  {
   "cell_type": "code",
   "execution_count": 8,
   "id": "175a68a3-68c6-4159-b71c-ce55395b101d",
   "metadata": {},
   "outputs": [],
   "source": [
    "# Criamos um dicionário em Python (observe que alguns valores estão nulos representados como None)\n",
    "dados = {\n",
    "    'Nome': ['Ana', 'Bruno', 'Fabiana', 'Ronaldo', 'Eliana', 'Matias'],\n",
    "    'Idade': [28, 34, 29, 17, None, 78],\n",
    "    'Cidade': ['Blumenau', 'São Paulo', 'Blumenau', 'São Paulo', 'Salvador', 'São Paulo'],\n",
    "    'Salário': [None, 7500, 6200, 9300, 8100, 15400]\n",
    "}"
   ]
  },
  {
   "cell_type": "code",
   "execution_count": 9,
   "id": "9c5b5396-e028-4798-aac8-17085acec268",
   "metadata": {},
   "outputs": [
    {
     "data": {
      "text/plain": [
       "dict"
      ]
     },
     "execution_count": 9,
     "metadata": {},
     "output_type": "execute_result"
    }
   ],
   "source": [
    "type(dados)"
   ]
  },
  {
   "cell_type": "code",
   "execution_count": 10,
   "id": "4c07df21-b422-42ae-9211-d07d5743a48c",
   "metadata": {},
   "outputs": [
    {
     "name": "stdout",
     "output_type": "stream",
     "text": [
      "{'Nome': ['Ana', 'Bruno', 'Fabiana', 'Ronaldo', 'Eliana', 'Matias'], 'Idade': [28, 34, 29, 17, None, 78], 'Cidade': ['Blumenau', 'São Paulo', 'Blumenau', 'São Paulo', 'Salvador', 'São Paulo'], 'Salário': [None, 7500, 6200, 9300, 8100, 15400]}\n"
     ]
    }
   ],
   "source": [
    "print(dados)"
   ]
  },
  {
   "cell_type": "code",
   "execution_count": 11,
   "id": "3e674c87-a385-4080-b508-9768e8982d3b",
   "metadata": {},
   "outputs": [],
   "source": [
    "# Convertemos o dicionário em um dataframe do pandas\n",
    "df_dsa = pd.DataFrame(dados)"
   ]
  },
  {
   "cell_type": "code",
   "execution_count": 12,
   "id": "14bbb2d0-e7c0-4245-807f-26e1ac12ff35",
   "metadata": {},
   "outputs": [
    {
     "data": {
      "text/plain": [
       "pandas.core.frame.DataFrame"
      ]
     },
     "execution_count": 12,
     "metadata": {},
     "output_type": "execute_result"
    }
   ],
   "source": [
    "type(df_dsa)"
   ]
  },
  {
   "cell_type": "code",
   "execution_count": 13,
   "id": "c7601930-926e-46a5-96c5-07604833ec87",
   "metadata": {},
   "outputs": [
    {
     "name": "stdout",
     "output_type": "stream",
     "text": [
      "\n",
      "--- Exemplo de DataFrame ---\n",
      "\n",
      "      Nome  Idade     Cidade  Salário\n",
      "0      Ana   28.0   Blumenau      NaN\n",
      "1    Bruno   34.0  São Paulo   7500.0\n",
      "2  Fabiana   29.0   Blumenau   6200.0\n",
      "3  Ronaldo   17.0  São Paulo   9300.0\n",
      "4   Eliana    NaN   Salvador   8100.0\n",
      "5   Matias   78.0  São Paulo  15400.0\n"
     ]
    }
   ],
   "source": [
    "print(\"\\n--- Exemplo de DataFrame ---\\n\")\n",
    "print(df_dsa)"
   ]
  },
  {
   "cell_type": "markdown",
   "id": "e068e45f-a38d-4322-93a8-d190a24441f2",
   "metadata": {},
   "source": [
    "## 2- Leitura e Escrita de Dados no Formato CSV\n",
    "\n",
    "Pandas torna muito fácil salvar seu DataFrame em um arquivo CSV e carregá-lo de volta."
   ]
  },
  {
   "cell_type": "code",
   "execution_count": 14,
   "id": "93fa5f76-1896-4eff-a71d-943121c25e91",
   "metadata": {},
   "outputs": [],
   "source": [
    "# Escrevendo (salvando) o DataFrame em um arquivo CSV\n",
    "# index=False evita que o índice do DataFrame seja salvo como uma coluna no CSV\n",
    "df_dsa.to_csv('dados_funcionarios_sem_indice.csv', index = False, encoding = 'utf-8')"
   ]
  },
  {
   "cell_type": "code",
   "execution_count": 15,
   "id": "a2abda32-f18c-4513-a406-707d8094fdca",
   "metadata": {},
   "outputs": [],
   "source": [
    "# Escrevendo (salvando) o DataFrame em um arquivo CSV\n",
    "# index=True (valor padrão) inclui o índice do DataFrame como uma coluna no CSV\n",
    "df_dsa.to_csv('dados_funcionarios_com_indice.csv', encoding = 'utf-8')"
   ]
  },
  {
   "cell_type": "code",
   "execution_count": 16,
   "id": "39510217-58ef-492d-a948-ed6dab5f4880",
   "metadata": {},
   "outputs": [],
   "source": [
    "# Lendo dados de um arquivo CSV para um novo DataFrame\n",
    "df_dsa_1 = pd.read_csv('dados_funcionarios_sem_indice.csv')"
   ]
  },
  {
   "cell_type": "code",
   "execution_count": 17,
   "id": "9cbb26f3-be7c-4d67-b318-dd73af5866ee",
   "metadata": {},
   "outputs": [
    {
     "data": {
      "text/html": [
       "<div>\n",
       "<style scoped>\n",
       "    .dataframe tbody tr th:only-of-type {\n",
       "        vertical-align: middle;\n",
       "    }\n",
       "\n",
       "    .dataframe tbody tr th {\n",
       "        vertical-align: top;\n",
       "    }\n",
       "\n",
       "    .dataframe thead th {\n",
       "        text-align: right;\n",
       "    }\n",
       "</style>\n",
       "<table border=\"1\" class=\"dataframe\">\n",
       "  <thead>\n",
       "    <tr style=\"text-align: right;\">\n",
       "      <th></th>\n",
       "      <th>Nome</th>\n",
       "      <th>Idade</th>\n",
       "      <th>Cidade</th>\n",
       "      <th>Salário</th>\n",
       "    </tr>\n",
       "  </thead>\n",
       "  <tbody>\n",
       "    <tr>\n",
       "      <th>0</th>\n",
       "      <td>Ana</td>\n",
       "      <td>28.0</td>\n",
       "      <td>Blumenau</td>\n",
       "      <td>NaN</td>\n",
       "    </tr>\n",
       "    <tr>\n",
       "      <th>1</th>\n",
       "      <td>Bruno</td>\n",
       "      <td>34.0</td>\n",
       "      <td>São Paulo</td>\n",
       "      <td>7500.0</td>\n",
       "    </tr>\n",
       "    <tr>\n",
       "      <th>2</th>\n",
       "      <td>Fabiana</td>\n",
       "      <td>29.0</td>\n",
       "      <td>Blumenau</td>\n",
       "      <td>6200.0</td>\n",
       "    </tr>\n",
       "    <tr>\n",
       "      <th>3</th>\n",
       "      <td>Ronaldo</td>\n",
       "      <td>17.0</td>\n",
       "      <td>São Paulo</td>\n",
       "      <td>9300.0</td>\n",
       "    </tr>\n",
       "    <tr>\n",
       "      <th>4</th>\n",
       "      <td>Eliana</td>\n",
       "      <td>NaN</td>\n",
       "      <td>Salvador</td>\n",
       "      <td>8100.0</td>\n",
       "    </tr>\n",
       "    <tr>\n",
       "      <th>5</th>\n",
       "      <td>Matias</td>\n",
       "      <td>78.0</td>\n",
       "      <td>São Paulo</td>\n",
       "      <td>15400.0</td>\n",
       "    </tr>\n",
       "  </tbody>\n",
       "</table>\n",
       "</div>"
      ],
      "text/plain": [
       "      Nome  Idade     Cidade  Salário\n",
       "0      Ana   28.0   Blumenau      NaN\n",
       "1    Bruno   34.0  São Paulo   7500.0\n",
       "2  Fabiana   29.0   Blumenau   6200.0\n",
       "3  Ronaldo   17.0  São Paulo   9300.0\n",
       "4   Eliana    NaN   Salvador   8100.0\n",
       "5   Matias   78.0  São Paulo  15400.0"
      ]
     },
     "execution_count": 17,
     "metadata": {},
     "output_type": "execute_result"
    }
   ],
   "source": [
    "# Visualizando as primeiras linhas\n",
    "df_dsa_1.head(6)"
   ]
  },
  {
   "cell_type": "code",
   "execution_count": 18,
   "id": "e1b6cba4-9d62-404c-bf61-21fd96b30f12",
   "metadata": {},
   "outputs": [],
   "source": [
    "# Lendo dados de um arquivo CSV para um novo DataFrame\n",
    "df_dsa_2 = pd.read_csv('dados_funcionarios_com_indice.csv')"
   ]
  },
  {
   "cell_type": "code",
   "execution_count": 19,
   "id": "84acda94-6004-4d7a-a8fa-909aa169747a",
   "metadata": {},
   "outputs": [
    {
     "data": {
      "text/html": [
       "<div>\n",
       "<style scoped>\n",
       "    .dataframe tbody tr th:only-of-type {\n",
       "        vertical-align: middle;\n",
       "    }\n",
       "\n",
       "    .dataframe tbody tr th {\n",
       "        vertical-align: top;\n",
       "    }\n",
       "\n",
       "    .dataframe thead th {\n",
       "        text-align: right;\n",
       "    }\n",
       "</style>\n",
       "<table border=\"1\" class=\"dataframe\">\n",
       "  <thead>\n",
       "    <tr style=\"text-align: right;\">\n",
       "      <th></th>\n",
       "      <th>Unnamed: 0</th>\n",
       "      <th>Nome</th>\n",
       "      <th>Idade</th>\n",
       "      <th>Cidade</th>\n",
       "      <th>Salário</th>\n",
       "    </tr>\n",
       "  </thead>\n",
       "  <tbody>\n",
       "    <tr>\n",
       "      <th>0</th>\n",
       "      <td>0</td>\n",
       "      <td>Ana</td>\n",
       "      <td>28.0</td>\n",
       "      <td>Blumenau</td>\n",
       "      <td>NaN</td>\n",
       "    </tr>\n",
       "    <tr>\n",
       "      <th>1</th>\n",
       "      <td>1</td>\n",
       "      <td>Bruno</td>\n",
       "      <td>34.0</td>\n",
       "      <td>São Paulo</td>\n",
       "      <td>7500.0</td>\n",
       "    </tr>\n",
       "    <tr>\n",
       "      <th>2</th>\n",
       "      <td>2</td>\n",
       "      <td>Fabiana</td>\n",
       "      <td>29.0</td>\n",
       "      <td>Blumenau</td>\n",
       "      <td>6200.0</td>\n",
       "    </tr>\n",
       "    <tr>\n",
       "      <th>3</th>\n",
       "      <td>3</td>\n",
       "      <td>Ronaldo</td>\n",
       "      <td>17.0</td>\n",
       "      <td>São Paulo</td>\n",
       "      <td>9300.0</td>\n",
       "    </tr>\n",
       "    <tr>\n",
       "      <th>4</th>\n",
       "      <td>4</td>\n",
       "      <td>Eliana</td>\n",
       "      <td>NaN</td>\n",
       "      <td>Salvador</td>\n",
       "      <td>8100.0</td>\n",
       "    </tr>\n",
       "    <tr>\n",
       "      <th>5</th>\n",
       "      <td>5</td>\n",
       "      <td>Matias</td>\n",
       "      <td>78.0</td>\n",
       "      <td>São Paulo</td>\n",
       "      <td>15400.0</td>\n",
       "    </tr>\n",
       "  </tbody>\n",
       "</table>\n",
       "</div>"
      ],
      "text/plain": [
       "   Unnamed: 0     Nome  Idade     Cidade  Salário\n",
       "0           0      Ana   28.0   Blumenau      NaN\n",
       "1           1    Bruno   34.0  São Paulo   7500.0\n",
       "2           2  Fabiana   29.0   Blumenau   6200.0\n",
       "3           3  Ronaldo   17.0  São Paulo   9300.0\n",
       "4           4   Eliana    NaN   Salvador   8100.0\n",
       "5           5   Matias   78.0  São Paulo  15400.0"
      ]
     },
     "execution_count": 19,
     "metadata": {},
     "output_type": "execute_result"
    }
   ],
   "source": [
    "# Visualizando as primeiras linhas\n",
    "df_dsa_2.head(6)"
   ]
  },
  {
   "cell_type": "code",
   "execution_count": 20,
   "id": "48b77572-986e-4323-a6e6-25599bd8756e",
   "metadata": {},
   "outputs": [],
   "source": [
    "# Deletando a coluna de índice 0\n",
    "df_dsa_2 = df_dsa_2.drop(df_dsa_2.columns[0], axis = 1)"
   ]
  },
  {
   "cell_type": "code",
   "execution_count": 21,
   "id": "a229187f-933a-47f3-9961-bbbd350f8b8b",
   "metadata": {},
   "outputs": [
    {
     "data": {
      "text/html": [
       "<div>\n",
       "<style scoped>\n",
       "    .dataframe tbody tr th:only-of-type {\n",
       "        vertical-align: middle;\n",
       "    }\n",
       "\n",
       "    .dataframe tbody tr th {\n",
       "        vertical-align: top;\n",
       "    }\n",
       "\n",
       "    .dataframe thead th {\n",
       "        text-align: right;\n",
       "    }\n",
       "</style>\n",
       "<table border=\"1\" class=\"dataframe\">\n",
       "  <thead>\n",
       "    <tr style=\"text-align: right;\">\n",
       "      <th></th>\n",
       "      <th>Nome</th>\n",
       "      <th>Idade</th>\n",
       "      <th>Cidade</th>\n",
       "      <th>Salário</th>\n",
       "    </tr>\n",
       "  </thead>\n",
       "  <tbody>\n",
       "    <tr>\n",
       "      <th>0</th>\n",
       "      <td>Ana</td>\n",
       "      <td>28.0</td>\n",
       "      <td>Blumenau</td>\n",
       "      <td>NaN</td>\n",
       "    </tr>\n",
       "    <tr>\n",
       "      <th>1</th>\n",
       "      <td>Bruno</td>\n",
       "      <td>34.0</td>\n",
       "      <td>São Paulo</td>\n",
       "      <td>7500.0</td>\n",
       "    </tr>\n",
       "    <tr>\n",
       "      <th>2</th>\n",
       "      <td>Fabiana</td>\n",
       "      <td>29.0</td>\n",
       "      <td>Blumenau</td>\n",
       "      <td>6200.0</td>\n",
       "    </tr>\n",
       "    <tr>\n",
       "      <th>3</th>\n",
       "      <td>Ronaldo</td>\n",
       "      <td>17.0</td>\n",
       "      <td>São Paulo</td>\n",
       "      <td>9300.0</td>\n",
       "    </tr>\n",
       "    <tr>\n",
       "      <th>4</th>\n",
       "      <td>Eliana</td>\n",
       "      <td>NaN</td>\n",
       "      <td>Salvador</td>\n",
       "      <td>8100.0</td>\n",
       "    </tr>\n",
       "    <tr>\n",
       "      <th>5</th>\n",
       "      <td>Matias</td>\n",
       "      <td>78.0</td>\n",
       "      <td>São Paulo</td>\n",
       "      <td>15400.0</td>\n",
       "    </tr>\n",
       "  </tbody>\n",
       "</table>\n",
       "</div>"
      ],
      "text/plain": [
       "      Nome  Idade     Cidade  Salário\n",
       "0      Ana   28.0   Blumenau      NaN\n",
       "1    Bruno   34.0  São Paulo   7500.0\n",
       "2  Fabiana   29.0   Blumenau   6200.0\n",
       "3  Ronaldo   17.0  São Paulo   9300.0\n",
       "4   Eliana    NaN   Salvador   8100.0\n",
       "5   Matias   78.0  São Paulo  15400.0"
      ]
     },
     "execution_count": 21,
     "metadata": {},
     "output_type": "execute_result"
    }
   ],
   "source": [
    "# Visualizando as primeiras linhas\n",
    "df_dsa_2.head(6)"
   ]
  },
  {
   "cell_type": "markdown",
   "id": "74234c0e-11fe-4e40-8bba-f81ae49e2e79",
   "metadata": {},
   "source": [
    "## 3. Seleção e Indexação com Pandas\n",
    "\n",
    "Existem várias maneiras de selecionar dados de um DataFrame. As mais comuns são loc (baseado em rótulo) e iloc (baseado em posição/índice numérico)."
   ]
  },
  {
   "cell_type": "code",
   "execution_count": 22,
   "id": "9273b576-9a68-4b9f-81c7-57da805b06bc",
   "metadata": {},
   "outputs": [
    {
     "data": {
      "text/html": [
       "<div>\n",
       "<style scoped>\n",
       "    .dataframe tbody tr th:only-of-type {\n",
       "        vertical-align: middle;\n",
       "    }\n",
       "\n",
       "    .dataframe tbody tr th {\n",
       "        vertical-align: top;\n",
       "    }\n",
       "\n",
       "    .dataframe thead th {\n",
       "        text-align: right;\n",
       "    }\n",
       "</style>\n",
       "<table border=\"1\" class=\"dataframe\">\n",
       "  <thead>\n",
       "    <tr style=\"text-align: right;\">\n",
       "      <th></th>\n",
       "      <th>Nome</th>\n",
       "      <th>Idade</th>\n",
       "      <th>Cidade</th>\n",
       "      <th>Salário</th>\n",
       "    </tr>\n",
       "  </thead>\n",
       "  <tbody>\n",
       "    <tr>\n",
       "      <th>0</th>\n",
       "      <td>Ana</td>\n",
       "      <td>28.0</td>\n",
       "      <td>Blumenau</td>\n",
       "      <td>NaN</td>\n",
       "    </tr>\n",
       "    <tr>\n",
       "      <th>1</th>\n",
       "      <td>Bruno</td>\n",
       "      <td>34.0</td>\n",
       "      <td>São Paulo</td>\n",
       "      <td>7500.0</td>\n",
       "    </tr>\n",
       "    <tr>\n",
       "      <th>2</th>\n",
       "      <td>Fabiana</td>\n",
       "      <td>29.0</td>\n",
       "      <td>Blumenau</td>\n",
       "      <td>6200.0</td>\n",
       "    </tr>\n",
       "    <tr>\n",
       "      <th>3</th>\n",
       "      <td>Ronaldo</td>\n",
       "      <td>17.0</td>\n",
       "      <td>São Paulo</td>\n",
       "      <td>9300.0</td>\n",
       "    </tr>\n",
       "    <tr>\n",
       "      <th>4</th>\n",
       "      <td>Eliana</td>\n",
       "      <td>NaN</td>\n",
       "      <td>Salvador</td>\n",
       "      <td>8100.0</td>\n",
       "    </tr>\n",
       "    <tr>\n",
       "      <th>5</th>\n",
       "      <td>Matias</td>\n",
       "      <td>78.0</td>\n",
       "      <td>São Paulo</td>\n",
       "      <td>15400.0</td>\n",
       "    </tr>\n",
       "  </tbody>\n",
       "</table>\n",
       "</div>"
      ],
      "text/plain": [
       "      Nome  Idade     Cidade  Salário\n",
       "0      Ana   28.0   Blumenau      NaN\n",
       "1    Bruno   34.0  São Paulo   7500.0\n",
       "2  Fabiana   29.0   Blumenau   6200.0\n",
       "3  Ronaldo   17.0  São Paulo   9300.0\n",
       "4   Eliana    NaN   Salvador   8100.0\n",
       "5   Matias   78.0  São Paulo  15400.0"
      ]
     },
     "execution_count": 22,
     "metadata": {},
     "output_type": "execute_result"
    }
   ],
   "source": [
    "# Visualizando as primeiras linhas\n",
    "df_dsa.head(6)"
   ]
  },
  {
   "cell_type": "code",
   "execution_count": 23,
   "id": "83810a91-0f1c-4eee-9011-8917d2028d60",
   "metadata": {},
   "outputs": [
    {
     "name": "stdout",
     "output_type": "stream",
     "text": [
      "\n",
      "--- Selecionando a coluna 'Nome' ---\n",
      "\n",
      "0        Ana\n",
      "1      Bruno\n",
      "2    Fabiana\n",
      "3    Ronaldo\n",
      "4     Eliana\n",
      "5     Matias\n",
      "Name: Nome, dtype: object\n",
      "\n",
      "\n"
     ]
    }
   ],
   "source": [
    "# Selecionando uma única coluna (retorna uma Series)\n",
    "nomes = df_dsa['Nome']\n",
    "print(\"\\n--- Selecionando a coluna 'Nome' ---\\n\")\n",
    "print(nomes)\n",
    "print(\"\\n\")"
   ]
  },
  {
   "cell_type": "code",
   "execution_count": 24,
   "id": "f6ac2375-3ab2-4344-bc16-b375d3591a5e",
   "metadata": {},
   "outputs": [
    {
     "data": {
      "text/plain": [
       "pandas.core.series.Series"
      ]
     },
     "execution_count": 24,
     "metadata": {},
     "output_type": "execute_result"
    }
   ],
   "source": [
    "type(nomes)"
   ]
  },
  {
   "cell_type": "code",
   "execution_count": 25,
   "id": "b40c0622-8996-44c2-bc3c-79a17a72c8a8",
   "metadata": {},
   "outputs": [
    {
     "data": {
      "text/html": [
       "<div>\n",
       "<style scoped>\n",
       "    .dataframe tbody tr th:only-of-type {\n",
       "        vertical-align: middle;\n",
       "    }\n",
       "\n",
       "    .dataframe tbody tr th {\n",
       "        vertical-align: top;\n",
       "    }\n",
       "\n",
       "    .dataframe thead th {\n",
       "        text-align: right;\n",
       "    }\n",
       "</style>\n",
       "<table border=\"1\" class=\"dataframe\">\n",
       "  <thead>\n",
       "    <tr style=\"text-align: right;\">\n",
       "      <th></th>\n",
       "      <th>Nome</th>\n",
       "      <th>Idade</th>\n",
       "      <th>Cidade</th>\n",
       "      <th>Salário</th>\n",
       "    </tr>\n",
       "  </thead>\n",
       "  <tbody>\n",
       "    <tr>\n",
       "      <th>0</th>\n",
       "      <td>Ana</td>\n",
       "      <td>28.0</td>\n",
       "      <td>Blumenau</td>\n",
       "      <td>NaN</td>\n",
       "    </tr>\n",
       "    <tr>\n",
       "      <th>1</th>\n",
       "      <td>Bruno</td>\n",
       "      <td>34.0</td>\n",
       "      <td>São Paulo</td>\n",
       "      <td>7500.0</td>\n",
       "    </tr>\n",
       "    <tr>\n",
       "      <th>2</th>\n",
       "      <td>Fabiana</td>\n",
       "      <td>29.0</td>\n",
       "      <td>Blumenau</td>\n",
       "      <td>6200.0</td>\n",
       "    </tr>\n",
       "    <tr>\n",
       "      <th>3</th>\n",
       "      <td>Ronaldo</td>\n",
       "      <td>17.0</td>\n",
       "      <td>São Paulo</td>\n",
       "      <td>9300.0</td>\n",
       "    </tr>\n",
       "    <tr>\n",
       "      <th>4</th>\n",
       "      <td>Eliana</td>\n",
       "      <td>NaN</td>\n",
       "      <td>Salvador</td>\n",
       "      <td>8100.0</td>\n",
       "    </tr>\n",
       "    <tr>\n",
       "      <th>5</th>\n",
       "      <td>Matias</td>\n",
       "      <td>78.0</td>\n",
       "      <td>São Paulo</td>\n",
       "      <td>15400.0</td>\n",
       "    </tr>\n",
       "  </tbody>\n",
       "</table>\n",
       "</div>"
      ],
      "text/plain": [
       "      Nome  Idade     Cidade  Salário\n",
       "0      Ana   28.0   Blumenau      NaN\n",
       "1    Bruno   34.0  São Paulo   7500.0\n",
       "2  Fabiana   29.0   Blumenau   6200.0\n",
       "3  Ronaldo   17.0  São Paulo   9300.0\n",
       "4   Eliana    NaN   Salvador   8100.0\n",
       "5   Matias   78.0  São Paulo  15400.0"
      ]
     },
     "execution_count": 25,
     "metadata": {},
     "output_type": "execute_result"
    }
   ],
   "source": [
    "# Visualizando as primeiras linhas\n",
    "df_dsa.head(6)"
   ]
  },
  {
   "cell_type": "code",
   "execution_count": 26,
   "id": "1aa4f59a-ac95-4e95-9e51-1ac116767bbf",
   "metadata": {},
   "outputs": [
    {
     "name": "stdout",
     "output_type": "stream",
     "text": [
      "\n",
      "--- Selecionando as colunas 'Nome' e 'Idade' ---\n",
      "\n",
      "      Nome  Idade\n",
      "0      Ana   28.0\n",
      "1    Bruno   34.0\n",
      "2  Fabiana   29.0\n",
      "3  Ronaldo   17.0\n",
      "4   Eliana    NaN\n",
      "5   Matias   78.0\n",
      "\n",
      "\n"
     ]
    }
   ],
   "source": [
    "# Selecionando múltiplas colunas (retorna um DataFrame)\n",
    "info_pessoal = df_dsa[['Nome', 'Idade']]\n",
    "print(\"\\n--- Selecionando as colunas 'Nome' e 'Idade' ---\\n\")\n",
    "print(info_pessoal)\n",
    "print(\"\\n\")"
   ]
  },
  {
   "cell_type": "code",
   "execution_count": 27,
   "id": "ccaa7cfe-95c0-48ee-a8e4-2c92d8e35d55",
   "metadata": {},
   "outputs": [
    {
     "data": {
      "text/plain": [
       "pandas.core.frame.DataFrame"
      ]
     },
     "execution_count": 27,
     "metadata": {},
     "output_type": "execute_result"
    }
   ],
   "source": [
    "type(info_pessoal)"
   ]
  },
  {
   "cell_type": "code",
   "execution_count": 28,
   "id": "f04be8f1-2aa2-4a02-ae05-df37a8e8c1f3",
   "metadata": {},
   "outputs": [
    {
     "data": {
      "text/html": [
       "<div>\n",
       "<style scoped>\n",
       "    .dataframe tbody tr th:only-of-type {\n",
       "        vertical-align: middle;\n",
       "    }\n",
       "\n",
       "    .dataframe tbody tr th {\n",
       "        vertical-align: top;\n",
       "    }\n",
       "\n",
       "    .dataframe thead th {\n",
       "        text-align: right;\n",
       "    }\n",
       "</style>\n",
       "<table border=\"1\" class=\"dataframe\">\n",
       "  <thead>\n",
       "    <tr style=\"text-align: right;\">\n",
       "      <th></th>\n",
       "      <th>Nome</th>\n",
       "      <th>Idade</th>\n",
       "      <th>Cidade</th>\n",
       "      <th>Salário</th>\n",
       "    </tr>\n",
       "  </thead>\n",
       "  <tbody>\n",
       "    <tr>\n",
       "      <th>0</th>\n",
       "      <td>Ana</td>\n",
       "      <td>28.0</td>\n",
       "      <td>Blumenau</td>\n",
       "      <td>NaN</td>\n",
       "    </tr>\n",
       "    <tr>\n",
       "      <th>1</th>\n",
       "      <td>Bruno</td>\n",
       "      <td>34.0</td>\n",
       "      <td>São Paulo</td>\n",
       "      <td>7500.0</td>\n",
       "    </tr>\n",
       "    <tr>\n",
       "      <th>2</th>\n",
       "      <td>Fabiana</td>\n",
       "      <td>29.0</td>\n",
       "      <td>Blumenau</td>\n",
       "      <td>6200.0</td>\n",
       "    </tr>\n",
       "    <tr>\n",
       "      <th>3</th>\n",
       "      <td>Ronaldo</td>\n",
       "      <td>17.0</td>\n",
       "      <td>São Paulo</td>\n",
       "      <td>9300.0</td>\n",
       "    </tr>\n",
       "    <tr>\n",
       "      <th>4</th>\n",
       "      <td>Eliana</td>\n",
       "      <td>NaN</td>\n",
       "      <td>Salvador</td>\n",
       "      <td>8100.0</td>\n",
       "    </tr>\n",
       "    <tr>\n",
       "      <th>5</th>\n",
       "      <td>Matias</td>\n",
       "      <td>78.0</td>\n",
       "      <td>São Paulo</td>\n",
       "      <td>15400.0</td>\n",
       "    </tr>\n",
       "  </tbody>\n",
       "</table>\n",
       "</div>"
      ],
      "text/plain": [
       "      Nome  Idade     Cidade  Salário\n",
       "0      Ana   28.0   Blumenau      NaN\n",
       "1    Bruno   34.0  São Paulo   7500.0\n",
       "2  Fabiana   29.0   Blumenau   6200.0\n",
       "3  Ronaldo   17.0  São Paulo   9300.0\n",
       "4   Eliana    NaN   Salvador   8100.0\n",
       "5   Matias   78.0  São Paulo  15400.0"
      ]
     },
     "execution_count": 28,
     "metadata": {},
     "output_type": "execute_result"
    }
   ],
   "source": [
    "# Visualizando as primeiras linhas\n",
    "df_dsa.head(6)"
   ]
  },
  {
   "cell_type": "code",
   "execution_count": 31,
   "id": "bb870056-c984-45eb-bf3a-1cd701cbbb8d",
   "metadata": {},
   "outputs": [
    {
     "name": "stdout",
     "output_type": "stream",
     "text": [
      "\n",
      "--- Selecionando com .loc[1, 'Nome'] ---\n",
      "Bruno\n",
      "\n"
     ]
    }
   ],
   "source": [
    "# Usando .loc para selecionar pela linha (rótulo/índice 1) e coluna ('Nome')\n",
    "nome = df_dsa.loc[1, 'Nome']\n",
    "print(f\"\\n--- Selecionando com .loc[1, 'Nome'] ---\\n{nome}\\n\")"
   ]
  },
  {
   "cell_type": "code",
   "execution_count": 32,
   "id": "51b3ccb1-edac-4613-9548-be526cf45b4b",
   "metadata": {},
   "outputs": [
    {
     "data": {
      "text/html": [
       "<div>\n",
       "<style scoped>\n",
       "    .dataframe tbody tr th:only-of-type {\n",
       "        vertical-align: middle;\n",
       "    }\n",
       "\n",
       "    .dataframe tbody tr th {\n",
       "        vertical-align: top;\n",
       "    }\n",
       "\n",
       "    .dataframe thead th {\n",
       "        text-align: right;\n",
       "    }\n",
       "</style>\n",
       "<table border=\"1\" class=\"dataframe\">\n",
       "  <thead>\n",
       "    <tr style=\"text-align: right;\">\n",
       "      <th></th>\n",
       "      <th>Nome</th>\n",
       "      <th>Idade</th>\n",
       "      <th>Cidade</th>\n",
       "      <th>Salário</th>\n",
       "    </tr>\n",
       "  </thead>\n",
       "  <tbody>\n",
       "    <tr>\n",
       "      <th>0</th>\n",
       "      <td>Ana</td>\n",
       "      <td>28.0</td>\n",
       "      <td>Blumenau</td>\n",
       "      <td>NaN</td>\n",
       "    </tr>\n",
       "    <tr>\n",
       "      <th>1</th>\n",
       "      <td>Bruno</td>\n",
       "      <td>34.0</td>\n",
       "      <td>São Paulo</td>\n",
       "      <td>7500.0</td>\n",
       "    </tr>\n",
       "    <tr>\n",
       "      <th>2</th>\n",
       "      <td>Fabiana</td>\n",
       "      <td>29.0</td>\n",
       "      <td>Blumenau</td>\n",
       "      <td>6200.0</td>\n",
       "    </tr>\n",
       "    <tr>\n",
       "      <th>3</th>\n",
       "      <td>Ronaldo</td>\n",
       "      <td>17.0</td>\n",
       "      <td>São Paulo</td>\n",
       "      <td>9300.0</td>\n",
       "    </tr>\n",
       "    <tr>\n",
       "      <th>4</th>\n",
       "      <td>Eliana</td>\n",
       "      <td>NaN</td>\n",
       "      <td>Salvador</td>\n",
       "      <td>8100.0</td>\n",
       "    </tr>\n",
       "    <tr>\n",
       "      <th>5</th>\n",
       "      <td>Matias</td>\n",
       "      <td>78.0</td>\n",
       "      <td>São Paulo</td>\n",
       "      <td>15400.0</td>\n",
       "    </tr>\n",
       "  </tbody>\n",
       "</table>\n",
       "</div>"
      ],
      "text/plain": [
       "      Nome  Idade     Cidade  Salário\n",
       "0      Ana   28.0   Blumenau      NaN\n",
       "1    Bruno   34.0  São Paulo   7500.0\n",
       "2  Fabiana   29.0   Blumenau   6200.0\n",
       "3  Ronaldo   17.0  São Paulo   9300.0\n",
       "4   Eliana    NaN   Salvador   8100.0\n",
       "5   Matias   78.0  São Paulo  15400.0"
      ]
     },
     "execution_count": 32,
     "metadata": {},
     "output_type": "execute_result"
    }
   ],
   "source": [
    "# Visualizando as primeiras linhas\n",
    "df_dsa.head(6)"
   ]
  },
  {
   "cell_type": "code",
   "execution_count": 33,
   "id": "26c6891b-5338-473f-a57d-c194ada131bb",
   "metadata": {},
   "outputs": [
    {
     "name": "stdout",
     "output_type": "stream",
     "text": [
      "\n",
      "--- Selecionando com .iloc[2, 3] ---\n",
      "6200.0\n",
      "\n"
     ]
    }
   ],
   "source": [
    "# Usando .iloc para selecionar pela posição da linha (linha 2) e da coluna (coluna 3)\n",
    "salario_fabiana = df_dsa.iloc[2, 3]\n",
    "print(f\"\\n--- Selecionando com .iloc[2, 3] ---\\n{salario_fabiana}\\n\")"
   ]
  },
  {
   "cell_type": "code",
   "execution_count": 34,
   "id": "7f442bec-6892-4e7f-8961-2431d6834bcf",
   "metadata": {},
   "outputs": [
    {
     "data": {
      "text/html": [
       "<div>\n",
       "<style scoped>\n",
       "    .dataframe tbody tr th:only-of-type {\n",
       "        vertical-align: middle;\n",
       "    }\n",
       "\n",
       "    .dataframe tbody tr th {\n",
       "        vertical-align: top;\n",
       "    }\n",
       "\n",
       "    .dataframe thead th {\n",
       "        text-align: right;\n",
       "    }\n",
       "</style>\n",
       "<table border=\"1\" class=\"dataframe\">\n",
       "  <thead>\n",
       "    <tr style=\"text-align: right;\">\n",
       "      <th></th>\n",
       "      <th>Nome</th>\n",
       "      <th>Idade</th>\n",
       "      <th>Cidade</th>\n",
       "      <th>Salário</th>\n",
       "    </tr>\n",
       "  </thead>\n",
       "  <tbody>\n",
       "    <tr>\n",
       "      <th>0</th>\n",
       "      <td>Ana</td>\n",
       "      <td>28.0</td>\n",
       "      <td>Blumenau</td>\n",
       "      <td>NaN</td>\n",
       "    </tr>\n",
       "    <tr>\n",
       "      <th>1</th>\n",
       "      <td>Bruno</td>\n",
       "      <td>34.0</td>\n",
       "      <td>São Paulo</td>\n",
       "      <td>7500.0</td>\n",
       "    </tr>\n",
       "    <tr>\n",
       "      <th>2</th>\n",
       "      <td>Fabiana</td>\n",
       "      <td>29.0</td>\n",
       "      <td>Blumenau</td>\n",
       "      <td>6200.0</td>\n",
       "    </tr>\n",
       "    <tr>\n",
       "      <th>3</th>\n",
       "      <td>Ronaldo</td>\n",
       "      <td>17.0</td>\n",
       "      <td>São Paulo</td>\n",
       "      <td>9300.0</td>\n",
       "    </tr>\n",
       "    <tr>\n",
       "      <th>4</th>\n",
       "      <td>Eliana</td>\n",
       "      <td>NaN</td>\n",
       "      <td>Salvador</td>\n",
       "      <td>8100.0</td>\n",
       "    </tr>\n",
       "    <tr>\n",
       "      <th>5</th>\n",
       "      <td>Matias</td>\n",
       "      <td>78.0</td>\n",
       "      <td>São Paulo</td>\n",
       "      <td>15400.0</td>\n",
       "    </tr>\n",
       "  </tbody>\n",
       "</table>\n",
       "</div>"
      ],
      "text/plain": [
       "      Nome  Idade     Cidade  Salário\n",
       "0      Ana   28.0   Blumenau      NaN\n",
       "1    Bruno   34.0  São Paulo   7500.0\n",
       "2  Fabiana   29.0   Blumenau   6200.0\n",
       "3  Ronaldo   17.0  São Paulo   9300.0\n",
       "4   Eliana    NaN   Salvador   8100.0\n",
       "5   Matias   78.0  São Paulo  15400.0"
      ]
     },
     "execution_count": 34,
     "metadata": {},
     "output_type": "execute_result"
    }
   ],
   "source": [
    "# Visualizando as primeiras linhas\n",
    "df_dsa.head(6)"
   ]
  },
  {
   "cell_type": "code",
   "execution_count": 40,
   "id": "e16eef76-9620-4a77-a885-6d4c211c6180",
   "metadata": {},
   "outputs": [
    {
     "name": "stdout",
     "output_type": "stream",
     "text": [
      "\n",
      "--- Selecionando as 3 primeiras linhas com .loc ---\n",
      "\n",
      "      Nome  Idade     Cidade  Salário\n",
      "0      Ana   28.0   Blumenau      NaN\n",
      "1    Bruno   34.0  São Paulo   7500.0\n",
      "2  Fabiana   29.0   Blumenau   6200.0\n"
     ]
    }
   ],
   "source": [
    "# Selecionando um intervalo de linhas\n",
    "primeiras_tres_linhas = df_dsa.loc[0:2] # O final (2) é inclusivo com .loc\n",
    "print(\"\\n--- Selecionando as 3 primeiras linhas com .loc ---\\n\")\n",
    "print(primeiras_tres_linhas)"
   ]
  },
  {
   "cell_type": "markdown",
   "id": "8fc96388-b935-4bd8-95ca-b68f8849e1c2",
   "metadata": {},
   "source": [
    "## 4. Filtragem de Dados com Pandas\n",
    "\n",
    "Você pode filtrar linhas com base em condições lógicas, de forma muito intuitiva, bem como usar colunas como índice."
   ]
  },
  {
   "cell_type": "code",
   "execution_count": 41,
   "id": "e93df79d-fed4-4c58-b6f6-6aeb112af8f0",
   "metadata": {},
   "outputs": [
    {
     "data": {
      "text/html": [
       "<div>\n",
       "<style scoped>\n",
       "    .dataframe tbody tr th:only-of-type {\n",
       "        vertical-align: middle;\n",
       "    }\n",
       "\n",
       "    .dataframe tbody tr th {\n",
       "        vertical-align: top;\n",
       "    }\n",
       "\n",
       "    .dataframe thead th {\n",
       "        text-align: right;\n",
       "    }\n",
       "</style>\n",
       "<table border=\"1\" class=\"dataframe\">\n",
       "  <thead>\n",
       "    <tr style=\"text-align: right;\">\n",
       "      <th></th>\n",
       "      <th>Nome</th>\n",
       "      <th>Idade</th>\n",
       "      <th>Cidade</th>\n",
       "      <th>Salário</th>\n",
       "    </tr>\n",
       "  </thead>\n",
       "  <tbody>\n",
       "    <tr>\n",
       "      <th>0</th>\n",
       "      <td>Ana</td>\n",
       "      <td>28.0</td>\n",
       "      <td>Blumenau</td>\n",
       "      <td>NaN</td>\n",
       "    </tr>\n",
       "    <tr>\n",
       "      <th>1</th>\n",
       "      <td>Bruno</td>\n",
       "      <td>34.0</td>\n",
       "      <td>São Paulo</td>\n",
       "      <td>7500.0</td>\n",
       "    </tr>\n",
       "    <tr>\n",
       "      <th>2</th>\n",
       "      <td>Fabiana</td>\n",
       "      <td>29.0</td>\n",
       "      <td>Blumenau</td>\n",
       "      <td>6200.0</td>\n",
       "    </tr>\n",
       "    <tr>\n",
       "      <th>3</th>\n",
       "      <td>Ronaldo</td>\n",
       "      <td>17.0</td>\n",
       "      <td>São Paulo</td>\n",
       "      <td>9300.0</td>\n",
       "    </tr>\n",
       "    <tr>\n",
       "      <th>4</th>\n",
       "      <td>Eliana</td>\n",
       "      <td>NaN</td>\n",
       "      <td>Salvador</td>\n",
       "      <td>8100.0</td>\n",
       "    </tr>\n",
       "    <tr>\n",
       "      <th>5</th>\n",
       "      <td>Matias</td>\n",
       "      <td>78.0</td>\n",
       "      <td>São Paulo</td>\n",
       "      <td>15400.0</td>\n",
       "    </tr>\n",
       "  </tbody>\n",
       "</table>\n",
       "</div>"
      ],
      "text/plain": [
       "      Nome  Idade     Cidade  Salário\n",
       "0      Ana   28.0   Blumenau      NaN\n",
       "1    Bruno   34.0  São Paulo   7500.0\n",
       "2  Fabiana   29.0   Blumenau   6200.0\n",
       "3  Ronaldo   17.0  São Paulo   9300.0\n",
       "4   Eliana    NaN   Salvador   8100.0\n",
       "5   Matias   78.0  São Paulo  15400.0"
      ]
     },
     "execution_count": 41,
     "metadata": {},
     "output_type": "execute_result"
    }
   ],
   "source": [
    "# Visualizando as primeiras linhas\n",
    "df_dsa.head(6)"
   ]
  },
  {
   "cell_type": "code",
   "execution_count": 42,
   "id": "45c13291-597e-4784-a81e-9ca9ca26e1ad",
   "metadata": {},
   "outputs": [],
   "source": [
    "# Convertendo a coluna zero em índice\n",
    "df_dsa = df_dsa.set_index(df_dsa.columns[0])"
   ]
  },
  {
   "cell_type": "code",
   "execution_count": 44,
   "id": "5d5f0cf2-564e-46c6-8eaf-6313049a75e1",
   "metadata": {},
   "outputs": [
    {
     "data": {
      "text/html": [
       "<div>\n",
       "<style scoped>\n",
       "    .dataframe tbody tr th:only-of-type {\n",
       "        vertical-align: middle;\n",
       "    }\n",
       "\n",
       "    .dataframe tbody tr th {\n",
       "        vertical-align: top;\n",
       "    }\n",
       "\n",
       "    .dataframe thead th {\n",
       "        text-align: right;\n",
       "    }\n",
       "</style>\n",
       "<table border=\"1\" class=\"dataframe\">\n",
       "  <thead>\n",
       "    <tr style=\"text-align: right;\">\n",
       "      <th></th>\n",
       "      <th>Idade</th>\n",
       "      <th>Cidade</th>\n",
       "      <th>Salário</th>\n",
       "    </tr>\n",
       "    <tr>\n",
       "      <th>Nome</th>\n",
       "      <th></th>\n",
       "      <th></th>\n",
       "      <th></th>\n",
       "    </tr>\n",
       "  </thead>\n",
       "  <tbody>\n",
       "    <tr>\n",
       "      <th>Ana</th>\n",
       "      <td>28.0</td>\n",
       "      <td>Blumenau</td>\n",
       "      <td>NaN</td>\n",
       "    </tr>\n",
       "    <tr>\n",
       "      <th>Bruno</th>\n",
       "      <td>34.0</td>\n",
       "      <td>São Paulo</td>\n",
       "      <td>7500.0</td>\n",
       "    </tr>\n",
       "    <tr>\n",
       "      <th>Fabiana</th>\n",
       "      <td>29.0</td>\n",
       "      <td>Blumenau</td>\n",
       "      <td>6200.0</td>\n",
       "    </tr>\n",
       "    <tr>\n",
       "      <th>Ronaldo</th>\n",
       "      <td>17.0</td>\n",
       "      <td>São Paulo</td>\n",
       "      <td>9300.0</td>\n",
       "    </tr>\n",
       "    <tr>\n",
       "      <th>Eliana</th>\n",
       "      <td>NaN</td>\n",
       "      <td>Salvador</td>\n",
       "      <td>8100.0</td>\n",
       "    </tr>\n",
       "    <tr>\n",
       "      <th>Matias</th>\n",
       "      <td>78.0</td>\n",
       "      <td>São Paulo</td>\n",
       "      <td>15400.0</td>\n",
       "    </tr>\n",
       "  </tbody>\n",
       "</table>\n",
       "</div>"
      ],
      "text/plain": [
       "         Idade     Cidade  Salário\n",
       "Nome                              \n",
       "Ana       28.0   Blumenau      NaN\n",
       "Bruno     34.0  São Paulo   7500.0\n",
       "Fabiana   29.0   Blumenau   6200.0\n",
       "Ronaldo   17.0  São Paulo   9300.0\n",
       "Eliana     NaN   Salvador   8100.0\n",
       "Matias    78.0  São Paulo  15400.0"
      ]
     },
     "execution_count": 44,
     "metadata": {},
     "output_type": "execute_result"
    }
   ],
   "source": [
    "# Visualizando as primeiras linhas\n",
    "df_dsa.head(6)"
   ]
  },
  {
   "cell_type": "code",
   "execution_count": 45,
   "id": "38f164e0-3dfc-476d-bb94-4c15d67cb0ed",
   "metadata": {},
   "outputs": [
    {
     "data": {
      "text/plain": [
       "np.float64(6200.0)"
      ]
     },
     "execution_count": 45,
     "metadata": {},
     "output_type": "execute_result"
    }
   ],
   "source": [
    "# Filtramos usando label do índice (linha) e da coluna\n",
    "df_dsa.loc[\"Fabiana\", \"Salário\"]"
   ]
  },
  {
   "cell_type": "code",
   "execution_count": 46,
   "id": "e1f421b0-634b-4a10-a855-0e0b66f5f2fc",
   "metadata": {},
   "outputs": [
    {
     "data": {
      "text/html": [
       "<div>\n",
       "<style scoped>\n",
       "    .dataframe tbody tr th:only-of-type {\n",
       "        vertical-align: middle;\n",
       "    }\n",
       "\n",
       "    .dataframe tbody tr th {\n",
       "        vertical-align: top;\n",
       "    }\n",
       "\n",
       "    .dataframe thead th {\n",
       "        text-align: right;\n",
       "    }\n",
       "</style>\n",
       "<table border=\"1\" class=\"dataframe\">\n",
       "  <thead>\n",
       "    <tr style=\"text-align: right;\">\n",
       "      <th></th>\n",
       "      <th>Salário</th>\n",
       "    </tr>\n",
       "    <tr>\n",
       "      <th>Nome</th>\n",
       "      <th></th>\n",
       "    </tr>\n",
       "  </thead>\n",
       "  <tbody>\n",
       "    <tr>\n",
       "      <th>Fabiana</th>\n",
       "      <td>6200.0</td>\n",
       "    </tr>\n",
       "  </tbody>\n",
       "</table>\n",
       "</div>"
      ],
      "text/plain": [
       "         Salário\n",
       "Nome            \n",
       "Fabiana   6200.0"
      ]
     },
     "execution_count": 46,
     "metadata": {},
     "output_type": "execute_result"
    }
   ],
   "source": [
    "# Podemos aplicar o filtro de forma que retorne um dataframe. Observe a diferença sutil na sintaxe.\n",
    "df_dsa.loc[[\"Fabiana\"], [\"Salário\"]]"
   ]
  },
  {
   "cell_type": "code",
   "execution_count": 47,
   "id": "a4837a59-5704-4d7d-a58e-4034be1dd8ad",
   "metadata": {},
   "outputs": [],
   "source": [
    "# Reset para retornar o índice ao padrão do Pandas\n",
    "df_dsa = df_dsa.reset_index()"
   ]
  },
  {
   "cell_type": "code",
   "execution_count": 48,
   "id": "710bd55c-ab2a-4815-a78b-1063626bc228",
   "metadata": {},
   "outputs": [
    {
     "data": {
      "text/html": [
       "<div>\n",
       "<style scoped>\n",
       "    .dataframe tbody tr th:only-of-type {\n",
       "        vertical-align: middle;\n",
       "    }\n",
       "\n",
       "    .dataframe tbody tr th {\n",
       "        vertical-align: top;\n",
       "    }\n",
       "\n",
       "    .dataframe thead th {\n",
       "        text-align: right;\n",
       "    }\n",
       "</style>\n",
       "<table border=\"1\" class=\"dataframe\">\n",
       "  <thead>\n",
       "    <tr style=\"text-align: right;\">\n",
       "      <th></th>\n",
       "      <th>Nome</th>\n",
       "      <th>Idade</th>\n",
       "      <th>Cidade</th>\n",
       "      <th>Salário</th>\n",
       "    </tr>\n",
       "  </thead>\n",
       "  <tbody>\n",
       "    <tr>\n",
       "      <th>0</th>\n",
       "      <td>Ana</td>\n",
       "      <td>28.0</td>\n",
       "      <td>Blumenau</td>\n",
       "      <td>NaN</td>\n",
       "    </tr>\n",
       "    <tr>\n",
       "      <th>1</th>\n",
       "      <td>Bruno</td>\n",
       "      <td>34.0</td>\n",
       "      <td>São Paulo</td>\n",
       "      <td>7500.0</td>\n",
       "    </tr>\n",
       "    <tr>\n",
       "      <th>2</th>\n",
       "      <td>Fabiana</td>\n",
       "      <td>29.0</td>\n",
       "      <td>Blumenau</td>\n",
       "      <td>6200.0</td>\n",
       "    </tr>\n",
       "    <tr>\n",
       "      <th>3</th>\n",
       "      <td>Ronaldo</td>\n",
       "      <td>17.0</td>\n",
       "      <td>São Paulo</td>\n",
       "      <td>9300.0</td>\n",
       "    </tr>\n",
       "    <tr>\n",
       "      <th>4</th>\n",
       "      <td>Eliana</td>\n",
       "      <td>NaN</td>\n",
       "      <td>Salvador</td>\n",
       "      <td>8100.0</td>\n",
       "    </tr>\n",
       "    <tr>\n",
       "      <th>5</th>\n",
       "      <td>Matias</td>\n",
       "      <td>78.0</td>\n",
       "      <td>São Paulo</td>\n",
       "      <td>15400.0</td>\n",
       "    </tr>\n",
       "  </tbody>\n",
       "</table>\n",
       "</div>"
      ],
      "text/plain": [
       "      Nome  Idade     Cidade  Salário\n",
       "0      Ana   28.0   Blumenau      NaN\n",
       "1    Bruno   34.0  São Paulo   7500.0\n",
       "2  Fabiana   29.0   Blumenau   6200.0\n",
       "3  Ronaldo   17.0  São Paulo   9300.0\n",
       "4   Eliana    NaN   Salvador   8100.0\n",
       "5   Matias   78.0  São Paulo  15400.0"
      ]
     },
     "execution_count": 48,
     "metadata": {},
     "output_type": "execute_result"
    }
   ],
   "source": [
    "# Visualizando as primeiras linhas\n",
    "df_dsa.head(6)"
   ]
  },
  {
   "cell_type": "code",
   "execution_count": 49,
   "id": "e4d2d8e2-f9c1-4d53-9966-76137c1fb17b",
   "metadata": {},
   "outputs": [
    {
     "name": "stdout",
     "output_type": "stream",
     "text": [
      "\n",
      "--- Funcionários com mais de 30 anos ---\n",
      "\n",
      "     Nome  Idade     Cidade  Salário\n",
      "1   Bruno   34.0  São Paulo   7500.0\n",
      "5  Matias   78.0  São Paulo  15400.0\n",
      "\n",
      "\n"
     ]
    }
   ],
   "source": [
    "# Filtrando funcionários com idade superior a 30 anos\n",
    "mais_de_30 = df_dsa[df_dsa['Idade'] > 30]\n",
    "print(\"\\n--- Funcionários com mais de 30 anos ---\\n\")\n",
    "print(mais_de_30)\n",
    "print(\"\\n\")"
   ]
  },
  {
   "cell_type": "code",
   "execution_count": 50,
   "id": "8fc7bfb6-67d6-4c37-a939-6379be1e877f",
   "metadata": {},
   "outputs": [
    {
     "name": "stdout",
     "output_type": "stream",
     "text": [
      "\n",
      "--- Funcionários de São Paulo com salário > 6000 ---\n",
      "\n",
      "      Nome  Idade     Cidade  Salário\n",
      "1    Bruno   34.0  São Paulo   7500.0\n",
      "3  Ronaldo   17.0  São Paulo   9300.0\n",
      "5   Matias   78.0  São Paulo  15400.0\n"
     ]
    }
   ],
   "source": [
    "# Filtrando funcionários de São Paulo com salário acima de 6000\n",
    "sp_salario_alto = df_dsa[(df_dsa['Cidade'] == 'São Paulo') & (df_dsa['Salário'] > 6000)]\n",
    "print(\"\\n--- Funcionários de São Paulo com salário > 6000 ---\\n\")\n",
    "print(sp_salario_alto)"
   ]
  },
  {
   "cell_type": "code",
   "execution_count": 51,
   "id": "726db67f-0746-4e11-a2a3-7d99c675ab23",
   "metadata": {},
   "outputs": [
    {
     "data": {
      "text/html": [
       "<div>\n",
       "<style scoped>\n",
       "    .dataframe tbody tr th:only-of-type {\n",
       "        vertical-align: middle;\n",
       "    }\n",
       "\n",
       "    .dataframe tbody tr th {\n",
       "        vertical-align: top;\n",
       "    }\n",
       "\n",
       "    .dataframe thead th {\n",
       "        text-align: right;\n",
       "    }\n",
       "</style>\n",
       "<table border=\"1\" class=\"dataframe\">\n",
       "  <thead>\n",
       "    <tr style=\"text-align: right;\">\n",
       "      <th></th>\n",
       "      <th>Nome</th>\n",
       "      <th>Idade</th>\n",
       "      <th>Cidade</th>\n",
       "      <th>Salário</th>\n",
       "    </tr>\n",
       "  </thead>\n",
       "  <tbody>\n",
       "    <tr>\n",
       "      <th>0</th>\n",
       "      <td>False</td>\n",
       "      <td>False</td>\n",
       "      <td>False</td>\n",
       "      <td>True</td>\n",
       "    </tr>\n",
       "    <tr>\n",
       "      <th>1</th>\n",
       "      <td>False</td>\n",
       "      <td>False</td>\n",
       "      <td>False</td>\n",
       "      <td>False</td>\n",
       "    </tr>\n",
       "    <tr>\n",
       "      <th>2</th>\n",
       "      <td>False</td>\n",
       "      <td>False</td>\n",
       "      <td>False</td>\n",
       "      <td>False</td>\n",
       "    </tr>\n",
       "    <tr>\n",
       "      <th>3</th>\n",
       "      <td>False</td>\n",
       "      <td>False</td>\n",
       "      <td>False</td>\n",
       "      <td>False</td>\n",
       "    </tr>\n",
       "    <tr>\n",
       "      <th>4</th>\n",
       "      <td>False</td>\n",
       "      <td>True</td>\n",
       "      <td>False</td>\n",
       "      <td>False</td>\n",
       "    </tr>\n",
       "    <tr>\n",
       "      <th>5</th>\n",
       "      <td>False</td>\n",
       "      <td>False</td>\n",
       "      <td>False</td>\n",
       "      <td>False</td>\n",
       "    </tr>\n",
       "  </tbody>\n",
       "</table>\n",
       "</div>"
      ],
      "text/plain": [
       "    Nome  Idade  Cidade  Salário\n",
       "0  False  False   False     True\n",
       "1  False  False   False    False\n",
       "2  False  False   False    False\n",
       "3  False  False   False    False\n",
       "4  False   True   False    False\n",
       "5  False  False   False    False"
      ]
     },
     "execution_count": 51,
     "metadata": {},
     "output_type": "execute_result"
    }
   ],
   "source": [
    "# Verificamos quais células têm valores nulos\n",
    "df_dsa.isnull()"
   ]
  },
  {
   "cell_type": "code",
   "execution_count": 52,
   "id": "f972b3aa-2d0e-4e80-8a53-27c270a246b1",
   "metadata": {},
   "outputs": [
    {
     "data": {
      "text/plain": [
       "Nome       False\n",
       "Idade       True\n",
       "Cidade     False\n",
       "Salário     True\n",
       "dtype: bool"
      ]
     },
     "execution_count": 52,
     "metadata": {},
     "output_type": "execute_result"
    }
   ],
   "source": [
    "# Verificamos se há qualquer valor nulo em cada coluna\n",
    "df_dsa.isnull().any()"
   ]
  },
  {
   "cell_type": "code",
   "execution_count": 54,
   "id": "df9a2902-a40a-4c4e-b34d-52f1c78c7345",
   "metadata": {},
   "outputs": [],
   "source": [
    "# Retorna apenas as colunas que possuem pelo menos um valor nulo\n",
    "df_dsa_colunas_com_nulos = df_dsa.loc[:, df_dsa.isnull().any()]"
   ]
  },
  {
   "cell_type": "code",
   "execution_count": 55,
   "id": "e5741110-7375-4719-85f7-355664259ce6",
   "metadata": {},
   "outputs": [
    {
     "data": {
      "text/html": [
       "<div>\n",
       "<style scoped>\n",
       "    .dataframe tbody tr th:only-of-type {\n",
       "        vertical-align: middle;\n",
       "    }\n",
       "\n",
       "    .dataframe tbody tr th {\n",
       "        vertical-align: top;\n",
       "    }\n",
       "\n",
       "    .dataframe thead th {\n",
       "        text-align: right;\n",
       "    }\n",
       "</style>\n",
       "<table border=\"1\" class=\"dataframe\">\n",
       "  <thead>\n",
       "    <tr style=\"text-align: right;\">\n",
       "      <th></th>\n",
       "      <th>Idade</th>\n",
       "      <th>Salário</th>\n",
       "    </tr>\n",
       "  </thead>\n",
       "  <tbody>\n",
       "    <tr>\n",
       "      <th>0</th>\n",
       "      <td>28.0</td>\n",
       "      <td>NaN</td>\n",
       "    </tr>\n",
       "    <tr>\n",
       "      <th>1</th>\n",
       "      <td>34.0</td>\n",
       "      <td>7500.0</td>\n",
       "    </tr>\n",
       "    <tr>\n",
       "      <th>2</th>\n",
       "      <td>29.0</td>\n",
       "      <td>6200.0</td>\n",
       "    </tr>\n",
       "    <tr>\n",
       "      <th>3</th>\n",
       "      <td>17.0</td>\n",
       "      <td>9300.0</td>\n",
       "    </tr>\n",
       "    <tr>\n",
       "      <th>4</th>\n",
       "      <td>NaN</td>\n",
       "      <td>8100.0</td>\n",
       "    </tr>\n",
       "  </tbody>\n",
       "</table>\n",
       "</div>"
      ],
      "text/plain": [
       "   Idade  Salário\n",
       "0   28.0      NaN\n",
       "1   34.0   7500.0\n",
       "2   29.0   6200.0\n",
       "3   17.0   9300.0\n",
       "4    NaN   8100.0"
      ]
     },
     "execution_count": 55,
     "metadata": {},
     "output_type": "execute_result"
    }
   ],
   "source": [
    "df_dsa_colunas_com_nulos.head()"
   ]
  },
  {
   "cell_type": "code",
   "execution_count": 60,
   "id": "3420c08b-b572-431a-9854-57cb96f11afd",
   "metadata": {},
   "outputs": [],
   "source": [
    "# Retorna apenas linhas com valores nulos\n",
    "df_dsa_linhas_com_nulos = df_dsa[df_dsa.isnull().any(axis = 1)]"
   ]
  },
  {
   "cell_type": "code",
   "execution_count": 57,
   "id": "a6d1bde9-045f-45bc-8afc-02b2ed474322",
   "metadata": {},
   "outputs": [
    {
     "data": {
      "text/html": [
       "<div>\n",
       "<style scoped>\n",
       "    .dataframe tbody tr th:only-of-type {\n",
       "        vertical-align: middle;\n",
       "    }\n",
       "\n",
       "    .dataframe tbody tr th {\n",
       "        vertical-align: top;\n",
       "    }\n",
       "\n",
       "    .dataframe thead th {\n",
       "        text-align: right;\n",
       "    }\n",
       "</style>\n",
       "<table border=\"1\" class=\"dataframe\">\n",
       "  <thead>\n",
       "    <tr style=\"text-align: right;\">\n",
       "      <th></th>\n",
       "      <th>Nome</th>\n",
       "      <th>Idade</th>\n",
       "      <th>Cidade</th>\n",
       "      <th>Salário</th>\n",
       "    </tr>\n",
       "  </thead>\n",
       "  <tbody>\n",
       "    <tr>\n",
       "      <th>0</th>\n",
       "      <td>Ana</td>\n",
       "      <td>28.0</td>\n",
       "      <td>Blumenau</td>\n",
       "      <td>NaN</td>\n",
       "    </tr>\n",
       "    <tr>\n",
       "      <th>4</th>\n",
       "      <td>Eliana</td>\n",
       "      <td>NaN</td>\n",
       "      <td>Salvador</td>\n",
       "      <td>8100.0</td>\n",
       "    </tr>\n",
       "  </tbody>\n",
       "</table>\n",
       "</div>"
      ],
      "text/plain": [
       "     Nome  Idade    Cidade  Salário\n",
       "0     Ana   28.0  Blumenau      NaN\n",
       "4  Eliana    NaN  Salvador   8100.0"
      ]
     },
     "execution_count": 57,
     "metadata": {},
     "output_type": "execute_result"
    }
   ],
   "source": [
    "df_dsa_linhas_com_nulos.head()"
   ]
  },
  {
   "cell_type": "code",
   "execution_count": 61,
   "id": "c2c53e7c-b6db-4b21-a984-3d4f59f0f10c",
   "metadata": {},
   "outputs": [],
   "source": [
    "# Podemos ainda filtrar pela coluna e então verificar se há valores nulos\n",
    "linhas_com_nulos_idade = df_dsa[df_dsa[\"Idade\"].isnull()]"
   ]
  },
  {
   "cell_type": "code",
   "execution_count": 62,
   "id": "392862b3-cf97-4e0d-b36d-07fca6fc77ca",
   "metadata": {},
   "outputs": [
    {
     "data": {
      "text/html": [
       "<div>\n",
       "<style scoped>\n",
       "    .dataframe tbody tr th:only-of-type {\n",
       "        vertical-align: middle;\n",
       "    }\n",
       "\n",
       "    .dataframe tbody tr th {\n",
       "        vertical-align: top;\n",
       "    }\n",
       "\n",
       "    .dataframe thead th {\n",
       "        text-align: right;\n",
       "    }\n",
       "</style>\n",
       "<table border=\"1\" class=\"dataframe\">\n",
       "  <thead>\n",
       "    <tr style=\"text-align: right;\">\n",
       "      <th></th>\n",
       "      <th>Nome</th>\n",
       "      <th>Idade</th>\n",
       "      <th>Cidade</th>\n",
       "      <th>Salário</th>\n",
       "    </tr>\n",
       "  </thead>\n",
       "  <tbody>\n",
       "    <tr>\n",
       "      <th>4</th>\n",
       "      <td>Eliana</td>\n",
       "      <td>NaN</td>\n",
       "      <td>Salvador</td>\n",
       "      <td>8100.0</td>\n",
       "    </tr>\n",
       "  </tbody>\n",
       "</table>\n",
       "</div>"
      ],
      "text/plain": [
       "     Nome  Idade    Cidade  Salário\n",
       "4  Eliana    NaN  Salvador   8100.0"
      ]
     },
     "execution_count": 62,
     "metadata": {},
     "output_type": "execute_result"
    }
   ],
   "source": [
    "linhas_com_nulos_idade.head()"
   ]
  },
  {
   "cell_type": "markdown",
   "id": "b07470af-edf1-4776-8981-abe710330df1",
   "metadata": {},
   "source": [
    "## 5. Inspeção de DataFrames do Pandas\n",
    "\n",
    "Podemos inspecionar e resumir o dataframe de várias formas."
   ]
  },
  {
   "cell_type": "code",
   "execution_count": 63,
   "id": "099a5129-e339-4c62-8307-c051b04320ec",
   "metadata": {},
   "outputs": [
    {
     "name": "stdout",
     "output_type": "stream",
     "text": [
      "\n",
      "--- Formato do DataFrame (.shape) ---\n",
      "(6, 4)\n"
     ]
    }
   ],
   "source": [
    "# Mostra o número de linhas e colunas (formato)\n",
    "print(f\"\\n--- Formato do DataFrame (.shape) ---\\n{df_dsa.shape}\")"
   ]
  },
  {
   "cell_type": "code",
   "execution_count": 64,
   "id": "cd249d51-4a43-4afe-9ba6-9883693af065",
   "metadata": {},
   "outputs": [
    {
     "name": "stdout",
     "output_type": "stream",
     "text": [
      "\n",
      "--- As 3 primeiras linhas (.head(3)) ---\n",
      "\n",
      "      Nome  Idade     Cidade  Salário\n",
      "0      Ana   28.0   Blumenau      NaN\n",
      "1    Bruno   34.0  São Paulo   7500.0\n",
      "2  Fabiana   29.0   Blumenau   6200.0\n",
      "\n",
      "\n"
     ]
    }
   ],
   "source": [
    "# Mostra as 3 primeiras linhas do DataFrame\n",
    "print(\"\\n--- As 3 primeiras linhas (.head(3)) ---\\n\")\n",
    "print(df_dsa.head(3))\n",
    "print(\"\\n\")"
   ]
  },
  {
   "cell_type": "code",
   "execution_count": 65,
   "id": "de9ee1da-1de2-46fc-a32f-80714535f18b",
   "metadata": {},
   "outputs": [
    {
     "name": "stdout",
     "output_type": "stream",
     "text": [
      "\n",
      "--- As 2 últimas linhas (.tail(2)) ---\n",
      "\n",
      "     Nome  Idade     Cidade  Salário\n",
      "4  Eliana    NaN   Salvador   8100.0\n",
      "5  Matias   78.0  São Paulo  15400.0\n",
      "\n",
      "\n"
     ]
    }
   ],
   "source": [
    "# Mostra as 2 últimas linhas do DataFrame\n",
    "print(\"\\n--- As 2 últimas linhas (.tail(2)) ---\\n\")\n",
    "print(df_dsa.tail(2))\n",
    "print(\"\\n\")"
   ]
  },
  {
   "cell_type": "code",
   "execution_count": 66,
   "id": "a2ee3f26-e418-4272-9248-1e0f040b01f9",
   "metadata": {},
   "outputs": [
    {
     "name": "stdout",
     "output_type": "stream",
     "text": [
      "\n",
      "--- Informações gerais (.info()) ---\n",
      "\n",
      "<class 'pandas.core.frame.DataFrame'>\n",
      "RangeIndex: 6 entries, 0 to 5\n",
      "Data columns (total 4 columns):\n",
      " #   Column   Non-Null Count  Dtype  \n",
      "---  ------   --------------  -----  \n",
      " 0   Nome     6 non-null      object \n",
      " 1   Idade    5 non-null      float64\n",
      " 2   Cidade   6 non-null      object \n",
      " 3   Salário  5 non-null      float64\n",
      "dtypes: float64(2), object(2)\n",
      "memory usage: 324.0+ bytes\n",
      "\n",
      "\n"
     ]
    }
   ],
   "source": [
    "# Fornece um resumo conciso do DataFrame (tipos de dados, valores não nulos, etc.)\n",
    "# Observe a contagem de valores\n",
    "print(\"\\n--- Informações gerais (.info()) ---\\n\")\n",
    "df_dsa.info()\n",
    "print(\"\\n\")"
   ]
  },
  {
   "cell_type": "code",
   "execution_count": 67,
   "id": "d10b6b3c-ab7a-4560-af86-9d6e7168d709",
   "metadata": {},
   "outputs": [
    {
     "name": "stdout",
     "output_type": "stream",
     "text": [
      "\n",
      "--- Estatísticas descritivas (.describe()) ---\n",
      "\n",
      "           Idade       Salário\n",
      "count   5.000000      5.000000\n",
      "mean   37.200000   9300.000000\n",
      "std    23.636836   3588.175024\n",
      "min    17.000000   6200.000000\n",
      "25%    28.000000   7500.000000\n",
      "50%    29.000000   8100.000000\n",
      "75%    34.000000   9300.000000\n",
      "max    78.000000  15400.000000\n",
      "\n",
      "\n"
     ]
    }
   ],
   "source": [
    "# Gera estatísticas descritivas das colunas numéricas\n",
    "print(\"\\n--- Estatísticas descritivas (.describe()) ---\\n\")\n",
    "print(df_dsa.describe())\n",
    "print(\"\\n\")"
   ]
  },
  {
   "cell_type": "code",
   "execution_count": 68,
   "id": "652a89d4-053d-4c54-843c-23dafae0c48e",
   "metadata": {},
   "outputs": [
    {
     "name": "stdout",
     "output_type": "stream",
     "text": [
      "\n",
      "--- Estatísticas descritivas (numéricas e objetos) ---\n",
      "\n",
      "       Nome      Idade     Cidade       Salário\n",
      "count     6   5.000000          6      5.000000\n",
      "unique    6        NaN          3           NaN\n",
      "top     Ana        NaN  São Paulo           NaN\n",
      "freq      1        NaN          3           NaN\n",
      "mean    NaN  37.200000        NaN   9300.000000\n",
      "std     NaN  23.636836        NaN   3588.175024\n",
      "min     NaN  17.000000        NaN   6200.000000\n",
      "25%     NaN  28.000000        NaN   7500.000000\n",
      "50%     NaN  29.000000        NaN   8100.000000\n",
      "75%     NaN  34.000000        NaN   9300.000000\n",
      "max     NaN  78.000000        NaN  15400.000000\n"
     ]
    }
   ],
   "source": [
    "print(\"\\n--- Estatísticas descritivas (numéricas e objetos) ---\\n\")\n",
    "print(df_dsa.describe(include = 'all'))  # inclui números, objetos e categorias"
   ]
  },
  {
   "cell_type": "code",
   "execution_count": 69,
   "id": "9b5ee1f6-f4bb-4a45-92f8-1a143cf2e2f3",
   "metadata": {},
   "outputs": [
    {
     "data": {
      "text/html": [
       "<div>\n",
       "<style scoped>\n",
       "    .dataframe tbody tr th:only-of-type {\n",
       "        vertical-align: middle;\n",
       "    }\n",
       "\n",
       "    .dataframe tbody tr th {\n",
       "        vertical-align: top;\n",
       "    }\n",
       "\n",
       "    .dataframe thead th {\n",
       "        text-align: right;\n",
       "    }\n",
       "</style>\n",
       "<table border=\"1\" class=\"dataframe\">\n",
       "  <thead>\n",
       "    <tr style=\"text-align: right;\">\n",
       "      <th></th>\n",
       "      <th>Nome</th>\n",
       "      <th>Cidade</th>\n",
       "    </tr>\n",
       "  </thead>\n",
       "  <tbody>\n",
       "    <tr>\n",
       "      <th>count</th>\n",
       "      <td>6</td>\n",
       "      <td>6</td>\n",
       "    </tr>\n",
       "    <tr>\n",
       "      <th>unique</th>\n",
       "      <td>6</td>\n",
       "      <td>3</td>\n",
       "    </tr>\n",
       "    <tr>\n",
       "      <th>top</th>\n",
       "      <td>Ana</td>\n",
       "      <td>São Paulo</td>\n",
       "    </tr>\n",
       "    <tr>\n",
       "      <th>freq</th>\n",
       "      <td>1</td>\n",
       "      <td>3</td>\n",
       "    </tr>\n",
       "  </tbody>\n",
       "</table>\n",
       "</div>"
      ],
      "text/plain": [
       "       Nome     Cidade\n",
       "count     6          6\n",
       "unique    6          3\n",
       "top     Ana  São Paulo\n",
       "freq      1          3"
      ]
     },
     "execution_count": 69,
     "metadata": {},
     "output_type": "execute_result"
    }
   ],
   "source": [
    "df_dsa.describe(include = [object])   # só colunas do tipo object"
   ]
  },
  {
   "cell_type": "code",
   "execution_count": 70,
   "id": "04247415-3f99-4cad-913d-ce848aae3b81",
   "metadata": {},
   "outputs": [
    {
     "data": {
      "text/html": [
       "<div>\n",
       "<style scoped>\n",
       "    .dataframe tbody tr th:only-of-type {\n",
       "        vertical-align: middle;\n",
       "    }\n",
       "\n",
       "    .dataframe tbody tr th {\n",
       "        vertical-align: top;\n",
       "    }\n",
       "\n",
       "    .dataframe thead th {\n",
       "        text-align: right;\n",
       "    }\n",
       "</style>\n",
       "<table border=\"1\" class=\"dataframe\">\n",
       "  <thead>\n",
       "    <tr style=\"text-align: right;\">\n",
       "      <th></th>\n",
       "      <th>Idade</th>\n",
       "      <th>Salário</th>\n",
       "    </tr>\n",
       "  </thead>\n",
       "  <tbody>\n",
       "    <tr>\n",
       "      <th>count</th>\n",
       "      <td>5.000000</td>\n",
       "      <td>5.000000</td>\n",
       "    </tr>\n",
       "    <tr>\n",
       "      <th>mean</th>\n",
       "      <td>37.200000</td>\n",
       "      <td>9300.000000</td>\n",
       "    </tr>\n",
       "    <tr>\n",
       "      <th>std</th>\n",
       "      <td>23.636836</td>\n",
       "      <td>3588.175024</td>\n",
       "    </tr>\n",
       "    <tr>\n",
       "      <th>min</th>\n",
       "      <td>17.000000</td>\n",
       "      <td>6200.000000</td>\n",
       "    </tr>\n",
       "    <tr>\n",
       "      <th>25%</th>\n",
       "      <td>28.000000</td>\n",
       "      <td>7500.000000</td>\n",
       "    </tr>\n",
       "    <tr>\n",
       "      <th>50%</th>\n",
       "      <td>29.000000</td>\n",
       "      <td>8100.000000</td>\n",
       "    </tr>\n",
       "    <tr>\n",
       "      <th>75%</th>\n",
       "      <td>34.000000</td>\n",
       "      <td>9300.000000</td>\n",
       "    </tr>\n",
       "    <tr>\n",
       "      <th>max</th>\n",
       "      <td>78.000000</td>\n",
       "      <td>15400.000000</td>\n",
       "    </tr>\n",
       "  </tbody>\n",
       "</table>\n",
       "</div>"
      ],
      "text/plain": [
       "           Idade       Salário\n",
       "count   5.000000      5.000000\n",
       "mean   37.200000   9300.000000\n",
       "std    23.636836   3588.175024\n",
       "min    17.000000   6200.000000\n",
       "25%    28.000000   7500.000000\n",
       "50%    29.000000   8100.000000\n",
       "75%    34.000000   9300.000000\n",
       "max    78.000000  15400.000000"
      ]
     },
     "execution_count": 70,
     "metadata": {},
     "output_type": "execute_result"
    }
   ],
   "source": [
    "df_dsa.describe(include = [np.number])  # só colunas numéricas (comportamento padrão)"
   ]
  },
  {
   "cell_type": "markdown",
   "id": "d71fc85f-427e-4c3d-8478-11fd594ee773",
   "metadata": {},
   "source": [
    "## 6. Operações e Transformações de Dados com Pandas\n",
    "\n",
    "Você pode facilmente criar novas colunas a partir de outras ou aplicar funções para modificar os dados. Fazemos isso com frequência em tarefas de engenharia de atributos em projetos de Ciência de Dados."
   ]
  },
  {
   "cell_type": "code",
   "execution_count": 71,
   "id": "3c6ff9da-568e-4a7c-ad66-51795be075ef",
   "metadata": {},
   "outputs": [
    {
     "data": {
      "text/html": [
       "<div>\n",
       "<style scoped>\n",
       "    .dataframe tbody tr th:only-of-type {\n",
       "        vertical-align: middle;\n",
       "    }\n",
       "\n",
       "    .dataframe tbody tr th {\n",
       "        vertical-align: top;\n",
       "    }\n",
       "\n",
       "    .dataframe thead th {\n",
       "        text-align: right;\n",
       "    }\n",
       "</style>\n",
       "<table border=\"1\" class=\"dataframe\">\n",
       "  <thead>\n",
       "    <tr style=\"text-align: right;\">\n",
       "      <th></th>\n",
       "      <th>Nome</th>\n",
       "      <th>Idade</th>\n",
       "      <th>Cidade</th>\n",
       "      <th>Salário</th>\n",
       "    </tr>\n",
       "  </thead>\n",
       "  <tbody>\n",
       "    <tr>\n",
       "      <th>0</th>\n",
       "      <td>Ana</td>\n",
       "      <td>28.0</td>\n",
       "      <td>Blumenau</td>\n",
       "      <td>NaN</td>\n",
       "    </tr>\n",
       "    <tr>\n",
       "      <th>1</th>\n",
       "      <td>Bruno</td>\n",
       "      <td>34.0</td>\n",
       "      <td>São Paulo</td>\n",
       "      <td>7500.0</td>\n",
       "    </tr>\n",
       "    <tr>\n",
       "      <th>2</th>\n",
       "      <td>Fabiana</td>\n",
       "      <td>29.0</td>\n",
       "      <td>Blumenau</td>\n",
       "      <td>6200.0</td>\n",
       "    </tr>\n",
       "    <tr>\n",
       "      <th>3</th>\n",
       "      <td>Ronaldo</td>\n",
       "      <td>17.0</td>\n",
       "      <td>São Paulo</td>\n",
       "      <td>9300.0</td>\n",
       "    </tr>\n",
       "    <tr>\n",
       "      <th>4</th>\n",
       "      <td>Eliana</td>\n",
       "      <td>NaN</td>\n",
       "      <td>Salvador</td>\n",
       "      <td>8100.0</td>\n",
       "    </tr>\n",
       "    <tr>\n",
       "      <th>5</th>\n",
       "      <td>Matias</td>\n",
       "      <td>78.0</td>\n",
       "      <td>São Paulo</td>\n",
       "      <td>15400.0</td>\n",
       "    </tr>\n",
       "  </tbody>\n",
       "</table>\n",
       "</div>"
      ],
      "text/plain": [
       "      Nome  Idade     Cidade  Salário\n",
       "0      Ana   28.0   Blumenau      NaN\n",
       "1    Bruno   34.0  São Paulo   7500.0\n",
       "2  Fabiana   29.0   Blumenau   6200.0\n",
       "3  Ronaldo   17.0  São Paulo   9300.0\n",
       "4   Eliana    NaN   Salvador   8100.0\n",
       "5   Matias   78.0  São Paulo  15400.0"
      ]
     },
     "execution_count": 71,
     "metadata": {},
     "output_type": "execute_result"
    }
   ],
   "source": [
    "df_dsa.head(6)"
   ]
  },
  {
   "cell_type": "code",
   "execution_count": 73,
   "id": "ffe5e95c-7a68-4787-b000-06082304eec9",
   "metadata": {},
   "outputs": [
    {
     "name": "stdout",
     "output_type": "stream",
     "text": [
      "\n",
      "--- DataFrame com a nova coluna 'Salário Anual' ---\n",
      "\n",
      "      Nome  Idade     Cidade  Salário  Salário Anual\n",
      "0      Ana   28.0   Blumenau      NaN            NaN\n",
      "1    Bruno   34.0  São Paulo   7500.0        90000.0\n",
      "2  Fabiana   29.0   Blumenau   6200.0        74400.0\n",
      "3  Ronaldo   17.0  São Paulo   9300.0       111600.0\n",
      "4   Eliana    NaN   Salvador   8100.0        97200.0\n",
      "5   Matias   78.0  São Paulo  15400.0       184800.0\n",
      "\n",
      "\n"
     ]
    }
   ],
   "source": [
    "# Criando uma nova coluna 'Salário Anual'\n",
    "df_dsa['Salário Anual'] = df_dsa['Salário'] * 12\n",
    "print(\"\\n--- DataFrame com a nova coluna 'Salário Anual' ---\\n\")\n",
    "print(df_dsa)\n",
    "print(\"\\n\")"
   ]
  },
  {
   "cell_type": "code",
   "execution_count": 74,
   "id": "eae3d619-9d9a-49ec-8dc8-2a3d9f73507e",
   "metadata": {},
   "outputs": [
    {
     "name": "stdout",
     "output_type": "stream",
     "text": [
      "\n",
      "--- DataFrame com a nova coluna 'Bônus' ---\n",
      "\n",
      "      Nome  Idade     Cidade  Salário  Salário Anual   Bônus\n",
      "0      Ana   28.0   Blumenau      NaN            NaN     NaN\n",
      "1    Bruno   34.0  São Paulo   7500.0        90000.0   750.0\n",
      "2  Fabiana   29.0   Blumenau   6200.0        74400.0   310.0\n",
      "3  Ronaldo   17.0  São Paulo   9300.0       111600.0   930.0\n",
      "4   Eliana    NaN   Salvador   8100.0        97200.0   810.0\n",
      "5   Matias   78.0  São Paulo  15400.0       184800.0  1540.0\n"
     ]
    }
   ],
   "source": [
    "# Aplicando uma função para criar uma coluna de bônus\n",
    "# A função lambda aplica a operação para cada valor na coluna 'Salário'\n",
    "df_dsa['Bônus'] = df_dsa['Salário'].apply(lambda x: x * 0.10 if x > 7000 else x * 0.05)\n",
    "print(\"\\n--- DataFrame com a nova coluna 'Bônus' ---\\n\")\n",
    "print(df_dsa)"
   ]
  },
  {
   "cell_type": "markdown",
   "id": "229f414f-a662-47ef-9251-c409d30f2074",
   "metadata": {},
   "source": [
    "Vamos criar uma coluna de faixa etária."
   ]
  },
  {
   "cell_type": "code",
   "execution_count": 75,
   "id": "5c1865f9-427a-4dc9-ad15-5b5f968c2cdd",
   "metadata": {},
   "outputs": [],
   "source": [
    "# Define as condições (vamos criar o que chamamos de máscara)\n",
    "condicoes = [\n",
    "    df_dsa['Idade'] < 18,\n",
    "    (df_dsa['Idade'] >= 18) & (df_dsa['Idade'] <= 30),\n",
    "    (df_dsa['Idade'] > 30) & (df_dsa['Idade'] <= 60),\n",
    "    df_dsa['Idade'] > 60\n",
    "]"
   ]
  },
  {
   "cell_type": "code",
   "execution_count": 76,
   "id": "711c1f8d-41e8-49bf-8ea3-dfa9a1392139",
   "metadata": {},
   "outputs": [
    {
     "name": "stdout",
     "output_type": "stream",
     "text": [
      "[0    False\n",
      "1    False\n",
      "2    False\n",
      "3     True\n",
      "4    False\n",
      "5    False\n",
      "Name: Idade, dtype: bool, 0     True\n",
      "1    False\n",
      "2     True\n",
      "3    False\n",
      "4    False\n",
      "5    False\n",
      "Name: Idade, dtype: bool, 0    False\n",
      "1     True\n",
      "2    False\n",
      "3    False\n",
      "4    False\n",
      "5    False\n",
      "Name: Idade, dtype: bool, 0    False\n",
      "1    False\n",
      "2    False\n",
      "3    False\n",
      "4    False\n",
      "5     True\n",
      "Name: Idade, dtype: bool]\n"
     ]
    }
   ],
   "source": [
    "print(condicoes)"
   ]
  },
  {
   "cell_type": "code",
   "execution_count": 77,
   "id": "bf832685-b30e-4bcd-9626-b65fdb44c0a2",
   "metadata": {},
   "outputs": [],
   "source": [
    "# Define os rótulos correspondentes\n",
    "faixas = ['Menor de idade', 'Jovem', 'Adulto', 'Idoso']"
   ]
  },
  {
   "cell_type": "code",
   "execution_count": 78,
   "id": "f4a79b23-c327-4e8e-adb2-d5253a99736a",
   "metadata": {},
   "outputs": [],
   "source": [
    "# Cria a nova coluna\n",
    "df_dsa['Faixa Etária'] = np.select(condicoes, faixas, default = 'Idade não informada')"
   ]
  },
  {
   "cell_type": "code",
   "execution_count": 79,
   "id": "6ed85a1e-6c5b-4cb9-9b0d-9db2dd368164",
   "metadata": {},
   "outputs": [
    {
     "data": {
      "text/html": [
       "<div>\n",
       "<style scoped>\n",
       "    .dataframe tbody tr th:only-of-type {\n",
       "        vertical-align: middle;\n",
       "    }\n",
       "\n",
       "    .dataframe tbody tr th {\n",
       "        vertical-align: top;\n",
       "    }\n",
       "\n",
       "    .dataframe thead th {\n",
       "        text-align: right;\n",
       "    }\n",
       "</style>\n",
       "<table border=\"1\" class=\"dataframe\">\n",
       "  <thead>\n",
       "    <tr style=\"text-align: right;\">\n",
       "      <th></th>\n",
       "      <th>Nome</th>\n",
       "      <th>Idade</th>\n",
       "      <th>Cidade</th>\n",
       "      <th>Salário</th>\n",
       "      <th>Salário Anual</th>\n",
       "      <th>Bônus</th>\n",
       "      <th>Faixa Etária</th>\n",
       "    </tr>\n",
       "  </thead>\n",
       "  <tbody>\n",
       "    <tr>\n",
       "      <th>0</th>\n",
       "      <td>Ana</td>\n",
       "      <td>28.0</td>\n",
       "      <td>Blumenau</td>\n",
       "      <td>NaN</td>\n",
       "      <td>NaN</td>\n",
       "      <td>NaN</td>\n",
       "      <td>Jovem</td>\n",
       "    </tr>\n",
       "    <tr>\n",
       "      <th>1</th>\n",
       "      <td>Bruno</td>\n",
       "      <td>34.0</td>\n",
       "      <td>São Paulo</td>\n",
       "      <td>7500.0</td>\n",
       "      <td>90000.0</td>\n",
       "      <td>750.0</td>\n",
       "      <td>Adulto</td>\n",
       "    </tr>\n",
       "    <tr>\n",
       "      <th>2</th>\n",
       "      <td>Fabiana</td>\n",
       "      <td>29.0</td>\n",
       "      <td>Blumenau</td>\n",
       "      <td>6200.0</td>\n",
       "      <td>74400.0</td>\n",
       "      <td>310.0</td>\n",
       "      <td>Jovem</td>\n",
       "    </tr>\n",
       "    <tr>\n",
       "      <th>3</th>\n",
       "      <td>Ronaldo</td>\n",
       "      <td>17.0</td>\n",
       "      <td>São Paulo</td>\n",
       "      <td>9300.0</td>\n",
       "      <td>111600.0</td>\n",
       "      <td>930.0</td>\n",
       "      <td>Menor de idade</td>\n",
       "    </tr>\n",
       "    <tr>\n",
       "      <th>4</th>\n",
       "      <td>Eliana</td>\n",
       "      <td>NaN</td>\n",
       "      <td>Salvador</td>\n",
       "      <td>8100.0</td>\n",
       "      <td>97200.0</td>\n",
       "      <td>810.0</td>\n",
       "      <td>Idade não informada</td>\n",
       "    </tr>\n",
       "    <tr>\n",
       "      <th>5</th>\n",
       "      <td>Matias</td>\n",
       "      <td>78.0</td>\n",
       "      <td>São Paulo</td>\n",
       "      <td>15400.0</td>\n",
       "      <td>184800.0</td>\n",
       "      <td>1540.0</td>\n",
       "      <td>Idoso</td>\n",
       "    </tr>\n",
       "  </tbody>\n",
       "</table>\n",
       "</div>"
      ],
      "text/plain": [
       "      Nome  Idade     Cidade  Salário  Salário Anual   Bônus  \\\n",
       "0      Ana   28.0   Blumenau      NaN            NaN     NaN   \n",
       "1    Bruno   34.0  São Paulo   7500.0        90000.0   750.0   \n",
       "2  Fabiana   29.0   Blumenau   6200.0        74400.0   310.0   \n",
       "3  Ronaldo   17.0  São Paulo   9300.0       111600.0   930.0   \n",
       "4   Eliana    NaN   Salvador   8100.0        97200.0   810.0   \n",
       "5   Matias   78.0  São Paulo  15400.0       184800.0  1540.0   \n",
       "\n",
       "          Faixa Etária  \n",
       "0                Jovem  \n",
       "1               Adulto  \n",
       "2                Jovem  \n",
       "3       Menor de idade  \n",
       "4  Idade não informada  \n",
       "5                Idoso  "
      ]
     },
     "execution_count": 79,
     "metadata": {},
     "output_type": "execute_result"
    }
   ],
   "source": [
    "df_dsa.head(6)"
   ]
  },
  {
   "cell_type": "markdown",
   "id": "a8cd406c-ccb4-4da5-809c-0a3d255e7a67",
   "metadata": {},
   "source": [
    "## 7. Agrupamento de Dados (Group By) com Pandas\n",
    "\n",
    "O método groupby é extremamente poderoso para análises segmentadas. É exatamente o mesmo conceito usado em Linguagem SQL."
   ]
  },
  {
   "cell_type": "code",
   "execution_count": 80,
   "id": "2c8eba77-0323-4155-be5f-e362aec48091",
   "metadata": {},
   "outputs": [
    {
     "data": {
      "text/html": [
       "<div>\n",
       "<style scoped>\n",
       "    .dataframe tbody tr th:only-of-type {\n",
       "        vertical-align: middle;\n",
       "    }\n",
       "\n",
       "    .dataframe tbody tr th {\n",
       "        vertical-align: top;\n",
       "    }\n",
       "\n",
       "    .dataframe thead th {\n",
       "        text-align: right;\n",
       "    }\n",
       "</style>\n",
       "<table border=\"1\" class=\"dataframe\">\n",
       "  <thead>\n",
       "    <tr style=\"text-align: right;\">\n",
       "      <th></th>\n",
       "      <th>Nome</th>\n",
       "      <th>Idade</th>\n",
       "      <th>Cidade</th>\n",
       "      <th>Salário</th>\n",
       "      <th>Salário Anual</th>\n",
       "      <th>Bônus</th>\n",
       "      <th>Faixa Etária</th>\n",
       "    </tr>\n",
       "  </thead>\n",
       "  <tbody>\n",
       "    <tr>\n",
       "      <th>0</th>\n",
       "      <td>Ana</td>\n",
       "      <td>28.0</td>\n",
       "      <td>Blumenau</td>\n",
       "      <td>NaN</td>\n",
       "      <td>NaN</td>\n",
       "      <td>NaN</td>\n",
       "      <td>Jovem</td>\n",
       "    </tr>\n",
       "    <tr>\n",
       "      <th>1</th>\n",
       "      <td>Bruno</td>\n",
       "      <td>34.0</td>\n",
       "      <td>São Paulo</td>\n",
       "      <td>7500.0</td>\n",
       "      <td>90000.0</td>\n",
       "      <td>750.0</td>\n",
       "      <td>Adulto</td>\n",
       "    </tr>\n",
       "    <tr>\n",
       "      <th>2</th>\n",
       "      <td>Fabiana</td>\n",
       "      <td>29.0</td>\n",
       "      <td>Blumenau</td>\n",
       "      <td>6200.0</td>\n",
       "      <td>74400.0</td>\n",
       "      <td>310.0</td>\n",
       "      <td>Jovem</td>\n",
       "    </tr>\n",
       "    <tr>\n",
       "      <th>3</th>\n",
       "      <td>Ronaldo</td>\n",
       "      <td>17.0</td>\n",
       "      <td>São Paulo</td>\n",
       "      <td>9300.0</td>\n",
       "      <td>111600.0</td>\n",
       "      <td>930.0</td>\n",
       "      <td>Menor de idade</td>\n",
       "    </tr>\n",
       "    <tr>\n",
       "      <th>4</th>\n",
       "      <td>Eliana</td>\n",
       "      <td>NaN</td>\n",
       "      <td>Salvador</td>\n",
       "      <td>8100.0</td>\n",
       "      <td>97200.0</td>\n",
       "      <td>810.0</td>\n",
       "      <td>Idade não informada</td>\n",
       "    </tr>\n",
       "    <tr>\n",
       "      <th>5</th>\n",
       "      <td>Matias</td>\n",
       "      <td>78.0</td>\n",
       "      <td>São Paulo</td>\n",
       "      <td>15400.0</td>\n",
       "      <td>184800.0</td>\n",
       "      <td>1540.0</td>\n",
       "      <td>Idoso</td>\n",
       "    </tr>\n",
       "  </tbody>\n",
       "</table>\n",
       "</div>"
      ],
      "text/plain": [
       "      Nome  Idade     Cidade  Salário  Salário Anual   Bônus  \\\n",
       "0      Ana   28.0   Blumenau      NaN            NaN     NaN   \n",
       "1    Bruno   34.0  São Paulo   7500.0        90000.0   750.0   \n",
       "2  Fabiana   29.0   Blumenau   6200.0        74400.0   310.0   \n",
       "3  Ronaldo   17.0  São Paulo   9300.0       111600.0   930.0   \n",
       "4   Eliana    NaN   Salvador   8100.0        97200.0   810.0   \n",
       "5   Matias   78.0  São Paulo  15400.0       184800.0  1540.0   \n",
       "\n",
       "          Faixa Etária  \n",
       "0                Jovem  \n",
       "1               Adulto  \n",
       "2                Jovem  \n",
       "3       Menor de idade  \n",
       "4  Idade não informada  \n",
       "5                Idoso  "
      ]
     },
     "execution_count": 80,
     "metadata": {},
     "output_type": "execute_result"
    }
   ],
   "source": [
    "df_dsa.head(6)"
   ]
  },
  {
   "cell_type": "code",
   "execution_count": 81,
   "id": "4f6888f6-1fd2-49c8-8216-39701decf5eb",
   "metadata": {},
   "outputs": [
    {
     "name": "stdout",
     "output_type": "stream",
     "text": [
      "\n",
      "--- Média de Salário por Cidade ---\n",
      "\n",
      "Cidade\n",
      "Blumenau      6200.00\n",
      "Salvador      8100.00\n",
      "São Paulo    10733.33\n",
      "Name: Salário, dtype: float64\n",
      "\n",
      "\n"
     ]
    }
   ],
   "source": [
    "# Agrupando os dados por 'Cidade' e calculando a média de 'Salário' para cada cidade\n",
    "media_salario_cidade = df_dsa.groupby('Cidade')['Salário'].mean()\n",
    "print(\"\\n--- Média de Salário por Cidade ---\\n\")\n",
    "print(np.round(media_salario_cidade,2))\n",
    "print(\"\\n\")"
   ]
  },
  {
   "cell_type": "code",
   "execution_count": 82,
   "id": "c8a377f4-3ee7-4e09-9b32-dbc8000b6f9e",
   "metadata": {},
   "outputs": [],
   "source": [
    "# Agrupando por cidade e calculando múltiplas agregações\n",
    "agregacao_cidade = df_dsa.groupby('Cidade').agg(Media_Salarial = ('Salário', 'mean'),\n",
    "                                                Idade_Maxima = ('Idade', 'max'),\n",
    "                                                Contagem = ('Nome', 'count'))"
   ]
  },
  {
   "cell_type": "code",
   "execution_count": 83,
   "id": "08d2561a-46c5-443c-8ab8-9f2233d6d670",
   "metadata": {},
   "outputs": [
    {
     "name": "stdout",
     "output_type": "stream",
     "text": [
      "\n",
      "--- Agregação múltipla por Cidade ---\n",
      "\n",
      "           Media_Salarial  Idade_Maxima  Contagem\n",
      "Cidade                                           \n",
      "Blumenau      6200.000000          29.0         2\n",
      "Salvador      8100.000000           NaN         1\n",
      "São Paulo    10733.333333          78.0         3\n"
     ]
    }
   ],
   "source": [
    "print(\"\\n--- Agregação múltipla por Cidade ---\\n\")\n",
    "print(agregacao_cidade)"
   ]
  },
  {
   "cell_type": "markdown",
   "id": "b1445173-a5b4-425c-b27a-9847b5dece4c",
   "metadata": {},
   "source": [
    "## 8. Manipulação de Tipos de Dados com Pandas\n",
    "\n",
    "Garantir que cada coluna tenha o tipo de dado correto é fundamental para qualquer tipo de análise."
   ]
  },
  {
   "cell_type": "code",
   "execution_count": 84,
   "id": "e416c3ec-f4e2-4087-a9c8-0e3279db8e2a",
   "metadata": {},
   "outputs": [
    {
     "name": "stdout",
     "output_type": "stream",
     "text": [
      "\n",
      "--- Tipos de dados antes da conversão ---\n",
      "\n",
      "Nome              object\n",
      "Idade            float64\n",
      "Cidade            object\n",
      "Salário          float64\n",
      "Salário Anual    float64\n",
      "Bônus            float64\n",
      "Faixa Etária      object\n",
      "dtype: object\n",
      "\n",
      "\n"
     ]
    }
   ],
   "source": [
    "# Verificando os tipos de dados atuais\n",
    "print(\"\\n--- Tipos de dados antes da conversão ---\\n\")\n",
    "print(df_dsa.dtypes)\n",
    "print(\"\\n\")"
   ]
  },
  {
   "cell_type": "code",
   "execution_count": null,
   "id": "bed868fb-190e-4cec-aec0-969c060de4df",
   "metadata": {},
   "outputs": [],
   "source": [
    "# Convertendo a coluna 'Idade' de float64 para int64 - ATENÇÃO!!!!!\n",
    "#df_dsa['Idade'] = df_dsa['Idade'].astype(int)"
   ]
  },
  {
   "cell_type": "code",
   "execution_count": 85,
   "id": "a09e820f-9e22-4e0f-a07f-d8213c8cb080",
   "metadata": {},
   "outputs": [
    {
     "name": "stderr",
     "output_type": "stream",
     "text": [
      "C:\\Users\\felip\\AppData\\Local\\Temp\\ipykernel_4452\\3442599421.py:5: SettingWithCopyWarning: \n",
      "A value is trying to be set on a copy of a slice from a DataFrame.\n",
      "Try using .loc[row_indexer,col_indexer] = value instead\n",
      "\n",
      "See the caveats in the documentation: https://pandas.pydata.org/pandas-docs/stable/user_guide/indexing.html#returning-a-view-versus-a-copy\n",
      "  df_dsa['Idade'] = df_dsa['Idade'].astype(int)\n"
     ]
    }
   ],
   "source": [
    "# Primeiro removemos a linha com valor ausente\n",
    "df_dsa = df_dsa.dropna(subset = ['Idade'])\n",
    "\n",
    "# E então fazemos a conversão\n",
    "df_dsa['Idade'] = df_dsa['Idade'].astype(int)"
   ]
  },
  {
   "cell_type": "code",
   "execution_count": 86,
   "id": "5b951524-d058-45e4-894c-186d2b166bb4",
   "metadata": {},
   "outputs": [
    {
     "name": "stdout",
     "output_type": "stream",
     "text": [
      "\n",
      "--- Tipos de dados após a conversão ---\n",
      "\n",
      "Nome              object\n",
      "Idade              int64\n",
      "Cidade            object\n",
      "Salário          float64\n",
      "Salário Anual    float64\n",
      "Bônus            float64\n",
      "Faixa Etária      object\n",
      "dtype: object\n"
     ]
    }
   ],
   "source": [
    "print(\"\\n--- Tipos de dados após a conversão ---\\n\")\n",
    "print(df_dsa.dtypes)"
   ]
  },
  {
   "cell_type": "code",
   "execution_count": 87,
   "id": "f94b3db6-ab7d-421f-87d6-b7df3aec3217",
   "metadata": {},
   "outputs": [
    {
     "name": "stderr",
     "output_type": "stream",
     "text": [
      "C:\\Users\\felip\\AppData\\Local\\Temp\\ipykernel_4452\\1349426023.py:2: SettingWithCopyWarning: \n",
      "A value is trying to be set on a copy of a slice from a DataFrame.\n",
      "Try using .loc[row_indexer,col_indexer] = value instead\n",
      "\n",
      "See the caveats in the documentation: https://pandas.pydata.org/pandas-docs/stable/user_guide/indexing.html#returning-a-view-versus-a-copy\n",
      "  df_dsa['Nome'] = df_dsa['Nome'].astype('string')\n",
      "C:\\Users\\felip\\AppData\\Local\\Temp\\ipykernel_4452\\1349426023.py:3: SettingWithCopyWarning: \n",
      "A value is trying to be set on a copy of a slice from a DataFrame.\n",
      "Try using .loc[row_indexer,col_indexer] = value instead\n",
      "\n",
      "See the caveats in the documentation: https://pandas.pydata.org/pandas-docs/stable/user_guide/indexing.html#returning-a-view-versus-a-copy\n",
      "  df_dsa['Cidade'] = df_dsa['Cidade'].astype('string')\n",
      "C:\\Users\\felip\\AppData\\Local\\Temp\\ipykernel_4452\\1349426023.py:4: SettingWithCopyWarning: \n",
      "A value is trying to be set on a copy of a slice from a DataFrame.\n",
      "Try using .loc[row_indexer,col_indexer] = value instead\n",
      "\n",
      "See the caveats in the documentation: https://pandas.pydata.org/pandas-docs/stable/user_guide/indexing.html#returning-a-view-versus-a-copy\n",
      "  df_dsa['Faixa Etária'] = df_dsa['Faixa Etária'].astype('string')\n"
     ]
    }
   ],
   "source": [
    "# Convertendo do tipo object para o tipo string\n",
    "df_dsa['Nome'] = df_dsa['Nome'].astype('string')\n",
    "df_dsa['Cidade'] = df_dsa['Cidade'].astype('string')\n",
    "df_dsa['Faixa Etária'] = df_dsa['Faixa Etária'].astype('string')"
   ]
  },
  {
   "cell_type": "code",
   "execution_count": 88,
   "id": "27188f9e-8047-4340-8e0f-284681fdb43b",
   "metadata": {},
   "outputs": [
    {
     "name": "stdout",
     "output_type": "stream",
     "text": [
      "\n",
      "--- Tipos de dados após a conversão ---\n",
      "\n",
      "Nome             string[python]\n",
      "Idade                     int64\n",
      "Cidade           string[python]\n",
      "Salário                 float64\n",
      "Salário Anual           float64\n",
      "Bônus                   float64\n",
      "Faixa Etária     string[python]\n",
      "dtype: object\n"
     ]
    }
   ],
   "source": [
    "print(\"\\n--- Tipos de dados após a conversão ---\\n\")\n",
    "print(df_dsa.dtypes)"
   ]
  },
  {
   "cell_type": "code",
   "execution_count": 89,
   "id": "115df26b-ba7f-49d8-a74e-646edab428bf",
   "metadata": {},
   "outputs": [],
   "source": [
    "# Converte todas as colunas do tipo object para string\n",
    "df_dsa = df_dsa.astype({col: 'string' for col in df_dsa.select_dtypes(include = 'object').columns})"
   ]
  },
  {
   "cell_type": "code",
   "execution_count": 90,
   "id": "25c9c6c5-f1e3-4d4f-8677-c1ed37166a6d",
   "metadata": {},
   "outputs": [
    {
     "name": "stdout",
     "output_type": "stream",
     "text": [
      "\n",
      "--- Tipos de dados após a conversão ---\n",
      "\n",
      "Nome             string[python]\n",
      "Idade                     int64\n",
      "Cidade           string[python]\n",
      "Salário                 float64\n",
      "Salário Anual           float64\n",
      "Bônus                   float64\n",
      "Faixa Etária     string[python]\n",
      "dtype: object\n"
     ]
    }
   ],
   "source": [
    "print(\"\\n--- Tipos de dados após a conversão ---\\n\")\n",
    "print(df_dsa.dtypes)"
   ]
  },
  {
   "cell_type": "markdown",
   "id": "873d8b01-76b1-47e4-8b74-50bf05414505",
   "metadata": {},
   "source": [
    "Diferença entre object e string no pandas:\n",
    "\n",
    "- object é um tipo genérico que armazena qualquer coisa em Python (strings, números, listas, etc.).\n",
    "\n",
    "- string (desde o Pandas 1.0) é um tipo de dado nativo para texto, pensado para operações mais seguras e consistentes com strings.\n",
    "\n",
    "Com string, você ganha melhor integração com métodos de texto (.str) e tratamento explícito de valores ausentes (< NA > em vez de NaN misturado com objetos).\n",
    "\n",
    "Em grandes DataFrames, o tipo string pode ser um pouco mais eficiente e evita confusões quando colunas deveriam ser só texto. Mas não é obrigatório converter, mas usar string ajuda a ter consistência, evitar misturar tipos diferentes na mesma coluna e facilita operações textuais. Para análises e limpeza de dados de texto, geralmente vale a pena."
   ]
  },
  {
   "cell_type": "markdown",
   "id": "c3370fb1-6e58-48b7-9e1d-0ece4a85c03f",
   "metadata": {},
   "source": [
    "## 9. Criação de Tabelas Dinâmicas (Pivot Tables) com Pandas\n",
    "\n",
    "Tabelas dinâmicas são ótimas para resumir dados de forma semelhante a uma planilha."
   ]
  },
  {
   "cell_type": "code",
   "execution_count": 92,
   "id": "e1d71228-c90e-4f89-a563-0853e1575728",
   "metadata": {},
   "outputs": [],
   "source": [
    "# Vamos adicionar mais dados para a tabela dinâmica ficar mais interessante\n",
    "dados_vendas = {\n",
    "    'Data': pd.to_datetime(['2026-09-01', '2026-09-01', '2026-09-02', '2026-09-02', '2026-09-01']),\n",
    "    'Região': ['Norte', 'Sul', 'Norte', 'Sul', 'Norte'],\n",
    "    'Vendedor': ['Carlos', 'Ana', 'Carlos', 'Ana', 'Pedro'],\n",
    "    'Vendas': [250, 300, 150, 400, 200]\n",
    "}"
   ]
  },
  {
   "cell_type": "code",
   "execution_count": 93,
   "id": "d07941fc-7d35-41a9-9203-32701c137fee",
   "metadata": {},
   "outputs": [],
   "source": [
    "# Cria o dataframe\n",
    "df_vendas = pd.DataFrame(dados_vendas)"
   ]
  },
  {
   "cell_type": "code",
   "execution_count": 94,
   "id": "a9a14641-519d-47bf-8b01-170dd684bf7b",
   "metadata": {},
   "outputs": [
    {
     "data": {
      "text/html": [
       "<div>\n",
       "<style scoped>\n",
       "    .dataframe tbody tr th:only-of-type {\n",
       "        vertical-align: middle;\n",
       "    }\n",
       "\n",
       "    .dataframe tbody tr th {\n",
       "        vertical-align: top;\n",
       "    }\n",
       "\n",
       "    .dataframe thead th {\n",
       "        text-align: right;\n",
       "    }\n",
       "</style>\n",
       "<table border=\"1\" class=\"dataframe\">\n",
       "  <thead>\n",
       "    <tr style=\"text-align: right;\">\n",
       "      <th></th>\n",
       "      <th>Data</th>\n",
       "      <th>Região</th>\n",
       "      <th>Vendedor</th>\n",
       "      <th>Vendas</th>\n",
       "    </tr>\n",
       "  </thead>\n",
       "  <tbody>\n",
       "    <tr>\n",
       "      <th>0</th>\n",
       "      <td>2026-09-01</td>\n",
       "      <td>Norte</td>\n",
       "      <td>Carlos</td>\n",
       "      <td>250</td>\n",
       "    </tr>\n",
       "    <tr>\n",
       "      <th>1</th>\n",
       "      <td>2026-09-01</td>\n",
       "      <td>Sul</td>\n",
       "      <td>Ana</td>\n",
       "      <td>300</td>\n",
       "    </tr>\n",
       "    <tr>\n",
       "      <th>2</th>\n",
       "      <td>2026-09-02</td>\n",
       "      <td>Norte</td>\n",
       "      <td>Carlos</td>\n",
       "      <td>150</td>\n",
       "    </tr>\n",
       "    <tr>\n",
       "      <th>3</th>\n",
       "      <td>2026-09-02</td>\n",
       "      <td>Sul</td>\n",
       "      <td>Ana</td>\n",
       "      <td>400</td>\n",
       "    </tr>\n",
       "    <tr>\n",
       "      <th>4</th>\n",
       "      <td>2026-09-01</td>\n",
       "      <td>Norte</td>\n",
       "      <td>Pedro</td>\n",
       "      <td>200</td>\n",
       "    </tr>\n",
       "  </tbody>\n",
       "</table>\n",
       "</div>"
      ],
      "text/plain": [
       "        Data Região Vendedor  Vendas\n",
       "0 2026-09-01  Norte   Carlos     250\n",
       "1 2026-09-01    Sul      Ana     300\n",
       "2 2026-09-02  Norte   Carlos     150\n",
       "3 2026-09-02    Sul      Ana     400\n",
       "4 2026-09-01  Norte    Pedro     200"
      ]
     },
     "execution_count": 94,
     "metadata": {},
     "output_type": "execute_result"
    }
   ],
   "source": [
    "df_vendas"
   ]
  },
  {
   "cell_type": "code",
   "execution_count": 95,
   "id": "f29a919f-ce45-4031-98c8-c8c914ba0556",
   "metadata": {},
   "outputs": [
    {
     "data": {
      "text/plain": [
       "Data        datetime64[ns]\n",
       "Região              object\n",
       "Vendedor            object\n",
       "Vendas               int64\n",
       "dtype: object"
      ]
     },
     "execution_count": 95,
     "metadata": {},
     "output_type": "execute_result"
    }
   ],
   "source": [
    "df_vendas.dtypes"
   ]
  },
  {
   "cell_type": "code",
   "execution_count": 96,
   "id": "c37de617-f731-4993-82bb-48321ff9da38",
   "metadata": {},
   "outputs": [],
   "source": [
    "# Criando uma tabela dinâmica para ver o total de vendas por Região e Vendedor\n",
    "tabela_dinamica = df_vendas.pivot_table(values = 'Vendas', \n",
    "                                        index = 'Região', \n",
    "                                        columns = 'Vendedor', \n",
    "                                        aggfunc = 'sum', \n",
    "                                        fill_value = 0)"
   ]
  },
  {
   "cell_type": "code",
   "execution_count": 97,
   "id": "07b9e115-13e0-4f05-b9b9-ba9e10f10bf7",
   "metadata": {},
   "outputs": [
    {
     "name": "stdout",
     "output_type": "stream",
     "text": [
      "\n",
      "--- Tabela Dinâmica: Total de Vendas por Região e Vendedor ---\n",
      "\n"
     ]
    },
    {
     "data": {
      "text/html": [
       "<div>\n",
       "<style scoped>\n",
       "    .dataframe tbody tr th:only-of-type {\n",
       "        vertical-align: middle;\n",
       "    }\n",
       "\n",
       "    .dataframe tbody tr th {\n",
       "        vertical-align: top;\n",
       "    }\n",
       "\n",
       "    .dataframe thead th {\n",
       "        text-align: right;\n",
       "    }\n",
       "</style>\n",
       "<table border=\"1\" class=\"dataframe\">\n",
       "  <thead>\n",
       "    <tr style=\"text-align: right;\">\n",
       "      <th>Vendedor</th>\n",
       "      <th>Ana</th>\n",
       "      <th>Carlos</th>\n",
       "      <th>Pedro</th>\n",
       "    </tr>\n",
       "    <tr>\n",
       "      <th>Região</th>\n",
       "      <th></th>\n",
       "      <th></th>\n",
       "      <th></th>\n",
       "    </tr>\n",
       "  </thead>\n",
       "  <tbody>\n",
       "    <tr>\n",
       "      <th>Norte</th>\n",
       "      <td>0</td>\n",
       "      <td>400</td>\n",
       "      <td>200</td>\n",
       "    </tr>\n",
       "    <tr>\n",
       "      <th>Sul</th>\n",
       "      <td>700</td>\n",
       "      <td>0</td>\n",
       "      <td>0</td>\n",
       "    </tr>\n",
       "  </tbody>\n",
       "</table>\n",
       "</div>"
      ],
      "text/plain": [
       "Vendedor  Ana  Carlos  Pedro\n",
       "Região                      \n",
       "Norte       0     400    200\n",
       "Sul       700       0      0"
      ]
     },
     "execution_count": 97,
     "metadata": {},
     "output_type": "execute_result"
    }
   ],
   "source": [
    "print(\"\\n--- Tabela Dinâmica: Total de Vendas por Região e Vendedor ---\\n\")\n",
    "tabela_dinamica"
   ]
  },
  {
   "cell_type": "markdown",
   "id": "5e6a36cf-bf2c-4a0d-9a88-af94422e93bf",
   "metadata": {},
   "source": [
    "## 10. Visualizações de Dados com Pandas e Matplotlib\n",
    "\n",
    "O Pandas se integra perfeitamente com o Matplotlib para criar visualizações diretamente do DataFrame."
   ]
  },
  {
   "cell_type": "code",
   "execution_count": 98,
   "id": "9cc7078f-9144-4ae9-8d6c-10702f346b0f",
   "metadata": {},
   "outputs": [],
   "source": [
    "# É uma boa prática executar este comando em notebooks Jupyter\n",
    "# para garantir que os gráficos apareçam inline\n",
    "%matplotlib inline"
   ]
  },
  {
   "cell_type": "code",
   "execution_count": 99,
   "id": "36cd885c-b9fe-40ed-ac7b-bc6106c0a20b",
   "metadata": {},
   "outputs": [],
   "source": [
    "# Carrega novamente o dataframe inicial\n",
    "df_dsa = pd.read_csv('dados_funcionarios_sem_indice.csv')"
   ]
  },
  {
   "cell_type": "code",
   "execution_count": 100,
   "id": "5b1a7a26-b292-474f-917e-f3541274e547",
   "metadata": {},
   "outputs": [
    {
     "data": {
      "text/html": [
       "<div>\n",
       "<style scoped>\n",
       "    .dataframe tbody tr th:only-of-type {\n",
       "        vertical-align: middle;\n",
       "    }\n",
       "\n",
       "    .dataframe tbody tr th {\n",
       "        vertical-align: top;\n",
       "    }\n",
       "\n",
       "    .dataframe thead th {\n",
       "        text-align: right;\n",
       "    }\n",
       "</style>\n",
       "<table border=\"1\" class=\"dataframe\">\n",
       "  <thead>\n",
       "    <tr style=\"text-align: right;\">\n",
       "      <th></th>\n",
       "      <th>Nome</th>\n",
       "      <th>Idade</th>\n",
       "      <th>Cidade</th>\n",
       "      <th>Salário</th>\n",
       "    </tr>\n",
       "  </thead>\n",
       "  <tbody>\n",
       "    <tr>\n",
       "      <th>0</th>\n",
       "      <td>Ana</td>\n",
       "      <td>28.0</td>\n",
       "      <td>Blumenau</td>\n",
       "      <td>NaN</td>\n",
       "    </tr>\n",
       "    <tr>\n",
       "      <th>1</th>\n",
       "      <td>Bruno</td>\n",
       "      <td>34.0</td>\n",
       "      <td>São Paulo</td>\n",
       "      <td>7500.0</td>\n",
       "    </tr>\n",
       "    <tr>\n",
       "      <th>2</th>\n",
       "      <td>Fabiana</td>\n",
       "      <td>29.0</td>\n",
       "      <td>Blumenau</td>\n",
       "      <td>6200.0</td>\n",
       "    </tr>\n",
       "    <tr>\n",
       "      <th>3</th>\n",
       "      <td>Ronaldo</td>\n",
       "      <td>17.0</td>\n",
       "      <td>São Paulo</td>\n",
       "      <td>9300.0</td>\n",
       "    </tr>\n",
       "    <tr>\n",
       "      <th>4</th>\n",
       "      <td>Eliana</td>\n",
       "      <td>NaN</td>\n",
       "      <td>Salvador</td>\n",
       "      <td>8100.0</td>\n",
       "    </tr>\n",
       "    <tr>\n",
       "      <th>5</th>\n",
       "      <td>Matias</td>\n",
       "      <td>78.0</td>\n",
       "      <td>São Paulo</td>\n",
       "      <td>15400.0</td>\n",
       "    </tr>\n",
       "  </tbody>\n",
       "</table>\n",
       "</div>"
      ],
      "text/plain": [
       "      Nome  Idade     Cidade  Salário\n",
       "0      Ana   28.0   Blumenau      NaN\n",
       "1    Bruno   34.0  São Paulo   7500.0\n",
       "2  Fabiana   29.0   Blumenau   6200.0\n",
       "3  Ronaldo   17.0  São Paulo   9300.0\n",
       "4   Eliana    NaN   Salvador   8100.0\n",
       "5   Matias   78.0  São Paulo  15400.0"
      ]
     },
     "execution_count": 100,
     "metadata": {},
     "output_type": "execute_result"
    }
   ],
   "source": [
    "df_dsa"
   ]
  },
  {
   "cell_type": "code",
   "execution_count": 101,
   "id": "76cb325e-57a8-4016-a49c-34497a3b29d5",
   "metadata": {},
   "outputs": [],
   "source": [
    "# Calcula a média de salário por cidade\n",
    "media_salario_cidade = df_dsa.groupby('Cidade')['Salário'].mean()"
   ]
  },
  {
   "cell_type": "code",
   "execution_count": 102,
   "id": "3ad4837d-340b-4df7-9f2f-6aab7aa1e9ef",
   "metadata": {},
   "outputs": [
    {
     "data": {
      "text/plain": [
       "pandas.core.series.Series"
      ]
     },
     "execution_count": 102,
     "metadata": {},
     "output_type": "execute_result"
    }
   ],
   "source": [
    "type(media_salario_cidade)"
   ]
  },
  {
   "cell_type": "code",
   "execution_count": 103,
   "id": "1efe2808-1fea-442d-91f2-de4b903a4986",
   "metadata": {},
   "outputs": [
    {
     "data": {
      "image/png": "[encoded data removed]",
      "text/plain": [
       "<Figure size 1200x500 with 1 Axes>"
      ]
     },
     "metadata": {},
     "output_type": "display_data"
    }
   ],
   "source": [
    "# Gráfico de Barras: Média de Salário por Cidade\n",
    "media_salario_cidade.plot(kind = 'bar', figsize = (12, 5), color = 'skyblue')\n",
    "\n",
    "# Adicionando títulos e rótulos\n",
    "plt.title('Média Salarial Por Cidade')\n",
    "plt.xlabel('Cidade')\n",
    "plt.ylabel('Média de Salário (R$)')\n",
    "plt.xticks(rotation = 45) \n",
    "plt.grid(axis = 'y', linestyle = '--')\n",
    "\n",
    "# Mostra o gráfico\n",
    "plt.show()"
   ]
  },
  {
   "cell_type": "code",
   "execution_count": 104,
   "id": "0174a22f-d25e-4fe4-a62c-6ed68ec9eb95",
   "metadata": {},
   "outputs": [],
   "source": [
    "# Contagem de registros (funcionários) por cidade\n",
    "contagem_cidade = df_dsa['Cidade'].value_counts()"
   ]
  },
  {
   "cell_type": "code",
   "execution_count": 105,
   "id": "4d6cd9ac-1385-4f32-8d8b-40ea6dea5a16",
   "metadata": {},
   "outputs": [
    {
     "data": {
      "text/plain": [
       "pandas.core.series.Series"
      ]
     },
     "execution_count": 105,
     "metadata": {},
     "output_type": "execute_result"
    }
   ],
   "source": [
    "type(contagem_cidade)"
   ]
  },
  {
   "cell_type": "code",
   "execution_count": 106,
   "id": "5aac743d-cb8a-4d42-a209-a3d4c1f210b5",
   "metadata": {},
   "outputs": [
    {
     "data": {
      "text/plain": [
       "Cidade\n",
       "São Paulo    3\n",
       "Blumenau     2\n",
       "Salvador     1\n",
       "Name: count, dtype: int64"
      ]
     },
     "execution_count": 106,
     "metadata": {},
     "output_type": "execute_result"
    }
   ],
   "source": [
    "contagem_cidade"
   ]
  },
  {
   "cell_type": "code",
   "execution_count": 107,
   "id": "211edb4d-5fc2-4760-a9ec-6b3bf11c5a9a",
   "metadata": {},
   "outputs": [
    {
     "data": {
      "image/png": "[encoded data removed]",
      "text/plain": [
       "<Figure size 600x600 with 1 Axes>"
      ]
     },
     "metadata": {},
     "output_type": "display_data"
    }
   ],
   "source": [
    "# Gráfico de Pizza: Contagem de funcionários por cidade\n",
    "contagem_cidade.plot(kind = 'pie', autopct = '%1.1f%%', figsize = (6, 6), startangle = 90)\n",
    "plt.title('Distribuição de Funcionários Por Cidade')\n",
    "plt.ylabel('') # Remove o rótulo do eixo y\n",
    "plt.show()"
   ]
  },
  {
   "cell_type": "markdown",
   "id": "b2513428-f58d-4e5b-b1a2-e228019d2932",
   "metadata": {},
   "source": [
    "# Fim"
   ]
  },
  {
   "cell_type": "markdown",
   "id": "b3aadd57-1e35-43ef-b51a-318ae8054601",
   "metadata": {},
   "source": [
    "Este curso é inteiramente gratuito e com certificado de conclusão. Se estiver gostando, ajude o trabalho da Data Science Academy e compartilhe nas suas redes. Conte para as pessoas o que estamos fazendo aqui, oferecendo material de alto nível de forma gratuita. Este é o link da página do curso:\n",
    "\n",
    "https://www.datascienceacademy.com.br/course/fundamentos-de-linguagem-python-do-basico-a-aplicacoes-de-ia"
   ]
  }
 ],
 "metadata": {
  "kernelspec": {
   "display_name": "Python 3",
   "language": "python",
   "name": "python3"
  },
  "language_info": {
   "codemirror_mode": {
    "name": "ipython",
    "version": 3
   },
   "file_extension": ".py",
   "mimetype": "text/x-python",
   "name": "python",
   "nbconvert_exporter": "python",
   "pygments_lexer": "ipython3",
   "version": "3.13.3"
  }
 },
 "nbformat": 4,
 "nbformat_minor": 5
}
