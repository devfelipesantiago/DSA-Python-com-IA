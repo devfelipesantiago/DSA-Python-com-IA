{
 "cells": [
  {
   "cell_type": "markdown",
   "id": "61d979b2-a85f-4d69-901e-b3bb69419a3e",
   "metadata": {},
   "source": [
    "<!-- Trabalho Desenvolvido na Data Science Academy - www.datascienceacademy.com.br -->\n",
    "# <font color='blue'>Data Science Academy</font>\n",
    "# <font color='blue'>Fundamentos de Linguagem Python - Do Básico a Aplicações de IA</font>\n",
    "# <font color='blue'>Lista 2 de Exercícios</font>"
   ]
  },
  {
   "cell_type": "markdown",
   "id": "3670be14-c985-465c-a68c-34b0e822b07a",
   "metadata": {},
   "source": [
    "#### Exercício 1\n",
    "\n",
    "Escreva uma função que receba os valores de três lados de um triângulo e o classifique como \"Equilátero\" (todos os lados iguais), \"Isósceles\" (dois lados iguais) ou \"Escaleno\" (todos os lados diferentes)."
   ]
  },
  {
   "cell_type": "code",
   "execution_count": 2,
   "id": "e05f9264-9103-4c43-9bbf-20334ead2de3",
   "metadata": {},
   "outputs": [
    {
     "name": "stdout",
     "output_type": "stream",
     "text": [
      "Triangulo Escaleno\n",
      "Triangulo Equilátero\n",
      "Triangulo Isóceles\n"
     ]
    }
   ],
   "source": [
    "# Solução\n",
    "def triangulo(a, b, c):\n",
    "  if a == b and b == c:\n",
    "    print('Triangulo Equilátero')\n",
    "  elif a == b or b == c or a == c:\n",
    "    print('Triangulo Isóceles')\n",
    "  else:\n",
    "    print('Triangulo Escaleno')\n",
    "\n",
    "triangulo(2, 3, 4)\n",
    "triangulo(2, 2, 2)\n",
    "triangulo(2, 2, 4)\n"
   ]
  },
  {
   "cell_type": "markdown",
   "id": "c740abbd-3a0e-4f9f-9a26-a3e382b078f5",
   "metadata": {},
   "source": [
    "#### Exercício 2\n",
    "\n",
    "Escreva uma função que recebe um número inteiro e exibe a tabuada de multiplicação desse número, do 1 ao 10."
   ]
  },
  {
   "cell_type": "code",
   "execution_count": null,
   "id": "431acb5d-fcd1-4ce4-9eee-6117b4066383",
   "metadata": {},
   "outputs": [
    {
     "name": "stdout",
     "output_type": "stream",
     "text": [
      "9\n",
      "18\n",
      "27\n",
      "36\n",
      "45\n",
      "54\n",
      "63\n",
      "72\n",
      "81\n",
      "90\n"
     ]
    }
   ],
   "source": [
    "# Solução\n",
    "def tabuada(number):\n",
    "  for i in range(1, 11):\n",
    "    print(i * number)\n",
    "\n",
    "tabuada(2)\n",
    "tabuada(5)\n",
    "tabuada(9)"
   ]
  },
  {
   "cell_type": "markdown",
   "id": "3375fbd5-8283-4602-9462-c0c7722e3258",
   "metadata": {},
   "source": [
    "#### Exercício 3 \n",
    "\n",
    "Você recebeu um dicionário com os nomes dos alunos e suas respectivas notas. Escreva uma função que calcula a média da turma e retorna uma lista com os nomes dos alunos que tiveram nota acima da média."
   ]
  },
  {
   "cell_type": "code",
   "execution_count": 20,
   "id": "de7f16bd-c754-456b-a726-28616af68aaa",
   "metadata": {},
   "outputs": [
    {
     "name": "stdout",
     "output_type": "stream",
     "text": [
      "A média das notas é 7.67!\n",
      "\n",
      "['Bruna', 'José', 'João', 'Dani']\n"
     ]
    }
   ],
   "source": [
    "# Solução\n",
    "def media(notas):\n",
    "  if not notas:\n",
    "    return 'Dicionario vazio'\n",
    " \n",
    "\n",
    "  quant_notas = len(notas.values())\n",
    "  total = sum(notas.values())\n",
    "\n",
    "  media_total = total / quant_notas\n",
    "  aprovados = []\n",
    "\n",
    "  for name, value in notas.items():\n",
    "    if value > media_total:\n",
    "      aprovados.append(name)\n",
    "\n",
    "  print(f'A média das notas é {media_total:.2f}!\\n')\n",
    "  print(aprovados)\n",
    "\n",
    "lista = {\n",
    "  'Ana': 5.5,\n",
    "  'Bruna': 10,\n",
    "  'Amanda': 7,\n",
    "  'José': 9,\n",
    "  'João': 8,\n",
    "  'Thiago': 6.5,\n",
    "  'Dani': 7.7\n",
    "}\n",
    "\n",
    "media(lista)"
   ]
  },
  {
   "cell_type": "markdown",
   "id": "7a6f120d-ef3d-4431-a9a1-1f8a99bae626",
   "metadata": {},
   "source": [
    "#### Exercício 4\n",
    "\n",
    "Dada uma lista de números, crie uma nova lista usando list comprehension que contenha o quadrado de cada número par da lista original."
   ]
  },
  {
   "cell_type": "code",
   "execution_count": 5,
   "id": "d40d066e-42b3-4659-a098-4bb73a3448a2",
   "metadata": {},
   "outputs": [
    {
     "name": "stdout",
     "output_type": "stream",
     "text": [
      "[4, 16, 36, 64, 100]\n"
     ]
    }
   ],
   "source": [
    "# Solução\n",
    "new_list = [x ** 2 for x in range(1, 11) if x % 2 == 0]\n",
    "print(new_list)"
   ]
  },
  {
   "cell_type": "markdown",
   "id": "a3182326-e5c7-4b8b-aeae-f30bbc3532b2",
   "metadata": {},
   "source": [
    "#### Exercício 5\n",
    "\n",
    "Crie uma função chamada dsa_calcula_imc que aceite dois argumentos: peso (em kg) e altura (em metros). A função deve calcular o Índice de Massa Corporal (IMC) usando a fórmula IMC=peso/altura^2 e retornar o valor do IMC."
   ]
  },
  {
   "cell_type": "code",
   "execution_count": 11,
   "id": "40007f31-7641-4d98-9521-c23f0741c37f",
   "metadata": {},
   "outputs": [
    {
     "name": "stdout",
     "output_type": "stream",
     "text": [
      "30.864197530864196\n"
     ]
    }
   ],
   "source": [
    "# Solução\n",
    "def cal_imc(peso, altura):\n",
    "  if not peso or not altura:\n",
    "    return 'Peso ou altura vazio'\n",
    "\n",
    "\n",
    "  imc = peso / (altura*altura)\n",
    "  return imc\n",
    "\n",
    "print(cal_imc(100, 1.80))"
   ]
  },
  {
   "cell_type": "markdown",
   "id": "b87006e7-5436-4dc0-acfc-fe6e83330191",
   "metadata": {},
   "source": [
    "#### Exercício 6\n",
    "\n",
    "Você tem uma lista de dicionários, onde cada dicionário representa uma pessoa com nome e idade. Use a função sorted() com uma expressão lambda como chave (key) para ordenar a lista de pessoas da mais nova para a mais velha."
   ]
  },
  {
   "cell_type": "code",
   "execution_count": 23,
   "id": "1f0c0503-1346-47f1-8cb9-ddbcd87641ea",
   "metadata": {},
   "outputs": [
    {
     "name": "stdout",
     "output_type": "stream",
     "text": [
      "[('Amanda', 7), ('Ana', 5.5), ('Bruna', 10), ('Dani', 7.7), ('José', 9), ('João', 8), ('Thiago', 6.5)]\n"
     ]
    }
   ],
   "source": [
    "# Solução\n",
    "\n",
    "ordered_list = sorted(lista.items(), key=lambda p: p[0])\n",
    "\n",
    "print(ordered_list)"
   ]
  },
  {
   "cell_type": "markdown",
   "id": "268f4ea6-5329-457b-8b1f-8b3fc7956603",
   "metadata": {},
   "source": [
    "#### Exercício 7\n",
    "\n",
    "Crie uma função que receba uma lista de números inteiros e retorne um dicionário contendo a contagem de quantos números são pares e quantos são ímpares."
   ]
  },
  {
   "cell_type": "code",
   "execution_count": 28,
   "id": "7366a477-10f5-46ec-ba8c-b0ab6067fed0",
   "metadata": {},
   "outputs": [
    {
     "name": "stdout",
     "output_type": "stream",
     "text": [
      "{'pares': 110, 'impar': 100}\n"
     ]
    }
   ],
   "source": [
    "# Solução\n",
    "def contagem(lista_int):\n",
    "  conta = {'pares': 0, 'impar': 0}\n",
    "\n",
    "  for i in lista_int:\n",
    "    if i % 2 == 0:\n",
    "      conta['pares'] += i\n",
    "    else:\n",
    "      conta['impar'] += i\n",
    "\n",
    "  return conta\n",
    "\n",
    "numbers = range(1, 21)\n",
    "print(contagem(numbers))"
   ]
  },
  {
   "cell_type": "markdown",
   "id": "bc454f20-7ee6-4402-8319-5e4876e2d309",
   "metadata": {},
   "source": [
    "#### Exercício 8\n",
    "\n",
    "Crie uma função que receba uma lista de strings (potenciais e-mails) e um parâmetro opcional dominio_desejado (com valor padrão \"gmail.com\"). A função deve retornar uma nova lista, usando list comprehension, contendo apenas os e-mails que terminam com o domínio desejado."
   ]
  },
  {
   "cell_type": "code",
   "execution_count": 30,
   "id": "11bdc9e8-75be-4448-932d-d876207fd1e4",
   "metadata": {},
   "outputs": [
    {
     "name": "stdout",
     "output_type": "stream",
     "text": [
      "['conta1@gmail.com', 'conta4@gmail.com']\n"
     ]
    }
   ],
   "source": [
    "# Solução\n",
    "def dominios(emails):\n",
    "  dominio_desejado = '@gmail.com'\n",
    "  return [email for email in emails if email.endswith(f'{dominio_desejado}')]\n",
    "\n",
    "email_list = [\n",
    "  'conta1@gmail.com',\n",
    "  'conta2@hmail.com',\n",
    "  'conta3@cmail.com',\n",
    "  'conta4@gmail.com',\n",
    "]\n",
    "\n",
    "print(dominios(email_list))"
   ]
  },
  {
   "cell_type": "markdown",
   "id": "40f12391-14a5-4b6d-bcb7-419a373eb0e1",
   "metadata": {},
   "source": [
    "#### Exercício 9\n",
    "\n",
    "Dada uma lista de frases, use a função map() em conjunto com uma expressão lambda para criar uma nova lista onde cada frase é convertida para letras maiúsculas e tem a palavra \"PYTHON\" anexada ao final."
   ]
  },
  {
   "cell_type": "code",
   "execution_count": 32,
   "id": "98f84688-9bfe-4de8-9f2b-97bf184dbd18",
   "metadata": {},
   "outputs": [
    {
     "name": "stdout",
     "output_type": "stream",
     "text": [
      "ASDA ASJDIE KFJAK EM PYTHON\n",
      "ASDA ASJDIE KFJAK EM PYTHON\n",
      "ASDA ASJDIE KFJAK EM PYTHON\n"
     ]
    }
   ],
   "source": [
    "# Solução\n",
    "frases = [\n",
    "  'asda asjdie kfjak',\n",
    "  'asda asjdie kfjak',\n",
    "  'asda asjdie kfjak'\n",
    "]\n",
    "\n",
    "frases_modificadas = list(map(lambda f: f.upper() + ' EM PYTHON', frases))\n",
    "\n",
    "for frase in frases_modificadas:\n",
    "  print(frase)"
   ]
  },
  {
   "cell_type": "markdown",
   "id": "9f07a658-4f72-4e97-a4e1-7c9f973ebca6",
   "metadata": {},
   "source": [
    "#### Exercício 10\n",
    "\n",
    "Crie um jogo onde o computador escolhe um número secreto entre 1 e 20. O jogador tem 5 tentativas para adivinhar. A cada tentativa, o programa informa se o palpite foi muito alto ou muito baixo. Se o jogador acertar, o loop deve ser interrompido com uma mensagem de vitória."
   ]
  },
  {
   "cell_type": "code",
   "execution_count": null,
   "id": "aba19b38-a544-4a8d-a162-52a5efe04c9a",
   "metadata": {},
   "outputs": [],
   "source": [
    "# Solução\n"
   ]
  },
  {
   "cell_type": "markdown",
   "id": "800eb189-a900-4307-a31c-910e5bb1e6c9",
   "metadata": {},
   "source": [
    "# Fim"
   ]
  }
 ],
 "metadata": {
  "kernelspec": {
   "display_name": "base",
   "language": "python",
   "name": "python3"
  },
  "language_info": {
   "codemirror_mode": {
    "name": "ipython",
    "version": 3
   },
   "file_extension": ".py",
   "mimetype": "text/x-python",
   "name": "python",
   "nbconvert_exporter": "python",
   "pygments_lexer": "ipython3",
   "version": "3.13.5"
  }
 },
 "nbformat": 4,
 "nbformat_minor": 5
}
